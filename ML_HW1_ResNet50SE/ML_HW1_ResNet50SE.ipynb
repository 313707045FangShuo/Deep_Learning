{
 "cells": [
  {
   "cell_type": "code",
   "execution_count": 1,
   "metadata": {},
   "outputs": [],
   "source": [
    "import zipfile\n",
    "import os\n",
    "\n",
    "zip_file = \"/mnt/sda1/shuof/DL/HW1/spring-2025-semester-deep-learning-hw-1.zip\"\n",
    "\n",
    "with zipfile.ZipFile(zip_file, 'r') as zip_ref:\n",
    "    zip_ref.extractall(\"/mnt/sda1/shuof/DL/HW1/data\")"
   ]
  },
  {
   "cell_type": "code",
   "execution_count": 1,
   "metadata": {},
   "outputs": [],
   "source": [
    "import os\n",
    "import torch\n",
    "import torch.nn as nn\n",
    "import torch.optim as optim\n",
    "import torch.nn.functional as F\n",
    "from torch.optim import AdamW\n",
    "from torch.optim.lr_scheduler import CosineAnnealingLR\n",
    "from torchvision import datasets, transforms, models\n",
    "from torch.utils.data import Dataset, DataLoader, SubsetRandomSampler, Subset\n",
    "from torchvision.models import ResNet50_Weights\n",
    "from sklearn.model_selection import train_test_split\n",
    "\n",
    "from tqdm import tqdm\n",
    "import numpy as np\n",
    "from PIL import Image\n",
    "import matplotlib.pyplot as plt"
   ]
  },
  {
   "cell_type": "markdown",
   "metadata": {},
   "source": [
    "## 資料前處理"
   ]
  },
  {
   "cell_type": "markdown",
   "metadata": {},
   "source": [
    "### Transform 設定\n",
    "- Training 用的 train_transform 加入比較多 data augmentation，以提升模型的泛化能力、避免 overfitting，提升魯棒性\n",
    "- Validation 跟 testing 用的 test_transform 只做 Resize 跟 Normalize"
   ]
  },
  {
   "cell_type": "code",
   "execution_count": 2,
   "metadata": {},
   "outputs": [],
   "source": [
    "data_dir = './data/trainingdata'\n",
    "\n",
    "train_transform = transforms.Compose([\n",
    "    transforms.RandomResizedCrop(224, scale=(0.8, 1.0), ratio=(0.8, 1.2)),\n",
    "    transforms.RandomHorizontalFlip(p=0.5),\n",
    "    transforms.RandomVerticalFlip(p=0.2),\n",
    "    transforms.RandomRotation(10),\n",
    "    transforms.ColorJitter(brightness=0.2, contrast=0.2),\n",
    "    transforms.RandomAffine(degrees=0, translate=(0.05, 0.05), scale=(0.95, 1.05)),\n",
    "    transforms.ToTensor(),\n",
    "    transforms.RandomErasing(p=0.2),\n",
    "    transforms.Normalize([0.5]*3, [0.5]*3)\n",
    "])\n",
    "\n",
    "test_transform = transforms.Compose([\n",
    "    transforms.Resize((224, 224)),\n",
    "    transforms.ToTensor(),\n",
    "    transforms.Normalize([0.5]*3, [0.5]*3)\n",
    "])"
   ]
  },
  {
   "cell_type": "markdown",
   "metadata": {},
   "source": [
    "#### 資料切分\n",
    "- 使用 `train_test_split` 將資料集以 8:2 比例切分為 training set 跟 validation set。\n",
    "- 使用 `stratify` 確保各類別在 training 跟 validation set 中的比例分佈一致。"
   ]
  },
  {
   "cell_type": "code",
   "execution_count": 3,
   "metadata": {},
   "outputs": [],
   "source": [
    "# 自定義的資料集類別\n",
    "class FilenameLabelDataset(Dataset):\n",
    "\n",
    "    def __init__(self, root_dir, transform=None):\n",
    "        self.img_paths = []\n",
    "        self.labels = []\n",
    "        self.transform = transform\n",
    "\n",
    "        for folder in os.listdir(root_dir):\n",
    "            folder_path = os.path.join(root_dir, folder)\n",
    "\n",
    "            for fname in os.listdir(folder_path):   # 儲存圖片的完整路徑和對應的 label\n",
    "                if fname.endswith('.jpg'):\n",
    "                    label = int(fname.split('_')[0])\n",
    "                    self.img_paths.append(os.path.join(folder_path, fname))\n",
    "                    self.labels.append(label)\n",
    "\n",
    "    def __len__(self):\n",
    "        return len(self.img_paths)\n",
    "\n",
    "    def __getitem__(self, idx):\n",
    "        image = Image.open(self.img_paths[idx]).convert('RGB')\n",
    "        if self.transform:\n",
    "            image = self.transform(image)\n",
    "        return image, self.labels[idx]"
   ]
  },
  {
   "cell_type": "code",
   "execution_count": 4,
   "metadata": {},
   "outputs": [],
   "source": [
    "full_dataset = FilenameLabelDataset('./data/trainingdata')\n",
    "\n",
    "indices = list(range(len(full_dataset)))\n",
    "train_idx, valid_idx = train_test_split(\n",
    "    indices, test_size=0.2, stratify=full_dataset.labels, random_state=42\n",
    ")\n",
    "\n",
    "class SubsetWithTransform(Dataset):\n",
    "    def __init__(self, dataset, indices, transform):\n",
    "        self.dataset = dataset\n",
    "        self.indices = indices\n",
    "        self.transform = transform\n",
    "\n",
    "    def __len__(self):\n",
    "        return len(self.indices)\n",
    "\n",
    "    def __getitem__(self, i):\n",
    "        img, label = self.dataset[self.indices[i]]\n",
    "        if self.transform:\n",
    "            img = self.transform(img)\n",
    "        return img, label"
   ]
  },
  {
   "cell_type": "markdown",
   "metadata": {},
   "source": [
    "### DataLoader 設定"
   ]
  },
  {
   "cell_type": "code",
   "execution_count": 5,
   "metadata": {},
   "outputs": [],
   "source": [
    "batch_size = 64\n",
    "\n",
    "train_dataset = SubsetWithTransform(full_dataset, train_idx, train_transform)\n",
    "valid_dataset = SubsetWithTransform(full_dataset, valid_idx, test_transform)\n",
    "\n",
    "train_loader = DataLoader(train_dataset, batch_size=batch_size, shuffle=True, num_workers=1)\n",
    "valid_loader = DataLoader(valid_dataset, batch_size=batch_size, shuffle=False, num_workers=1)"
   ]
  },
  {
   "cell_type": "code",
   "execution_count": 6,
   "metadata": {},
   "outputs": [],
   "source": [
    "class TestDataset(torch.utils.data.Dataset):\n",
    "    def __init__(self, img_dir, transform=None):\n",
    "        self.img_dir = img_dir\n",
    "        self.transform = transform\n",
    "        self.images = sorted(os.listdir(img_dir))\n",
    "\n",
    "    def __len__(self):\n",
    "        return len(self.images)\n",
    "\n",
    "    def __getitem__(self, idx):\n",
    "        img_path = os.path.join(self.img_dir, self.images[idx])\n",
    "        image = Image.open(img_path).convert('RGB')\n",
    "        if self.transform:\n",
    "            image = self.transform(image)\n",
    "        return image, self.images[idx]\n",
    "\n",
    "test_dataset = TestDataset('./data/testingdata', transform=test_transform)\n",
    "test_loader = DataLoader(test_dataset, batch_size=batch_size, shuffle=False)"
   ]
  },
  {
   "cell_type": "markdown",
   "metadata": {},
   "source": [
    "### 確認標籤正確"
   ]
  },
  {
   "cell_type": "code",
   "execution_count": 7,
   "metadata": {},
   "outputs": [
    {
     "name": "stdout",
     "output_type": "stream",
     "text": [
      "Train: Counter({2: 1200, 9: 1200, 5: 1060, 0: 795, 3: 789, 8: 684, 4: 678, 10: 567, 6: 352, 1: 343, 7: 224})\n",
      "Valid: Counter({9: 300, 2: 300, 5: 265, 0: 199, 3: 197, 8: 171, 4: 170, 10: 142, 6: 88, 1: 86, 7: 56})\n"
     ]
    }
   ],
   "source": [
    "from collections import defaultdict, Counter\n",
    "import os\n",
    "\n",
    "train_labels = [train_dataset.dataset[i][1] for i in train_idx]\n",
    "valid_labels = [valid_dataset.dataset[i][1] for i in valid_idx]\n",
    "\n",
    "print(\"Train:\", Counter(train_labels))\n",
    "print(\"Valid:\", Counter(valid_labels))"
   ]
  },
  {
   "cell_type": "code",
   "execution_count": 8,
   "metadata": {},
   "outputs": [
    {
     "name": "stdout",
     "output_type": "stream",
     "text": [
      "trainingdata0: Counter({0: 994})\n",
      "trainingdata1: Counter({1: 429})\n",
      "trainingdata10: Counter({10: 709})\n",
      "trainingdata2: Counter({2: 1500})\n",
      "trainingdata3: Counter({3: 986})\n",
      "trainingdata4: Counter({4: 848})\n",
      "trainingdata5: Counter({5: 1325})\n",
      "trainingdata6: Counter({6: 440})\n",
      "trainingdata7: Counter({7: 280})\n",
      "trainingdata8: Counter({8: 855})\n",
      "trainingdata9: Counter({9: 1500})\n",
      "class_counts: [ 994  429 1500  986  848 1325  440  280  855 1500  709]\n"
     ]
    }
   ],
   "source": [
    "folder_label_map = defaultdict(list)\n",
    "\n",
    "for path, label in zip(full_dataset.img_paths, full_dataset.labels):\n",
    "    folder_name = os.path.basename(os.path.dirname(path))  # 取出如 trainingdata0\n",
    "    folder_label_map[folder_name].append(label)\n",
    "\n",
    "total_counter = Counter()\n",
    "\n",
    "for folder in sorted(folder_label_map.keys()):\n",
    "    label_counts = Counter(folder_label_map[folder])\n",
    "    print(f\"{folder}: {label_counts}\")\n",
    "    total_counter.update(label_counts)\n",
    "\n",
    "num_classes = 11\n",
    "class_counts = np.array([total_counter[i] for i in range(num_classes)])\n",
    "print(\"class_counts:\", class_counts)"
   ]
  },
  {
   "cell_type": "markdown",
   "metadata": {},
   "source": [
    "## 查看 batch 內容"
   ]
  },
  {
   "cell_type": "code",
   "execution_count": 9,
   "metadata": {},
   "outputs": [],
   "source": [
    "def inverse_normalize(img_norm, mean, std):\n",
    "\n",
    "    # Convert mean and std to tensors with the right shape for broadcasting\n",
    "    mean = torch.tensor(mean, device=img_norm.device).view(1, -1, 1, 1)\n",
    "    std = torch.tensor(std, device=img_norm.device).view(1, -1, 1, 1)\n",
    "\n",
    "    # (x-mean)/std = img\n",
    "    # x = img*std + mean\n",
    "    # Apply inverse normalization\n",
    "    return img_norm * std + mean\n",
    "\n",
    "def imshow(img):\n",
    "    # img = inverse_normalize(img, mean, std)\n",
    "    npimg = img.numpy()\n",
    "    plt.imshow(np.transpose(npimg, (1, 2, 0)))\n",
    "    plt.show()"
   ]
  },
  {
   "cell_type": "code",
   "execution_count": 10,
   "metadata": {},
   "outputs": [
    {
     "name": "stdout",
     "output_type": "stream",
     "text": [
      "torch.Size([64, 3, 224, 224])\n"
     ]
    },
    {
     "data": {
      "image/png": "[encoded data removed]",
      "text/plain": [
       "<Figure size 640x480 with 1 Axes>"
      ]
     },
     "metadata": {},
     "output_type": "display_data"
    }
   ],
   "source": [
    "from torchvision.utils import make_grid\n",
    "\n",
    "data_iter = iter(train_loader)\n",
    "images, labels = next(data_iter)\n",
    "print(images.shape)\n",
    "\n",
    "mean = [0.4914, 0.4822, 0.4465]\n",
    "std = [0.2470, 0.2435, 0.2616]\n",
    "image_grid = make_grid(inverse_normalize(images, mean, std))\n",
    "\n",
    "imshow(image_grid)"
   ]
  },
  {
   "cell_type": "markdown",
   "metadata": {},
   "source": [
    "## 模型設計"
   ]
  },
  {
   "cell_type": "code",
   "execution_count": 18,
   "metadata": {},
   "outputs": [],
   "source": [
    "# 設定\n",
    "\n",
    "best_acc = 0\n",
    "patience = 15\n",
    "counter = 0\n",
    "best_model_path = 'best_model.pt'\n",
    "\n",
    "device = torch.device(\"cuda\" if torch.cuda.is_available() else \"cpu\")\n",
    "\n",
    "# wwight\n",
    "beta = 0.999"
   ]
  },
  {
   "cell_type": "code",
   "execution_count": 12,
   "metadata": {},
   "outputs": [],
   "source": [
    "def compute_dynamic_weights(class_counts, beta=0.999):\n",
    "    effective_num = 1.0 - np.power(beta, class_counts)\n",
    "    weights = (1.0 - beta) / effective_num\n",
    "    weights = weights / np.sum(weights) * len(class_counts)\n",
    "    return torch.tensor(weights, dtype=torch.float).to(device)"
   ]
  },
  {
   "cell_type": "code",
   "execution_count": 13,
   "metadata": {},
   "outputs": [],
   "source": [
    "# Squeeze-and-Excitation Block\n",
    "class SEBlock(nn.Module):\n",
    "    def __init__(self, channel, reduction=16):\n",
    "        super(SEBlock, self).__init__()\n",
    "        self.se = nn.Sequential(\n",
    "            nn.AdaptiveAvgPool2d(1),\n",
    "            nn.Conv2d(channel, channel // reduction, 1),\n",
    "            nn.ReLU(inplace=True),\n",
    "            nn.Conv2d(channel // reduction, channel, 1),\n",
    "            nn.Sigmoid()\n",
    "        )\n",
    "\n",
    "    def forward(self, x):\n",
    "        scale = self.se(x)\n",
    "        return x * scale\n",
    "\n",
    "# ResNet Bottleneck Block with SE\n",
    "class Bottleneck(nn.Module):\n",
    "    expansion = 4\n",
    "    def __init__(self, in_channels, out_channels, stride=1, downsample=None):\n",
    "        super(Bottleneck, self).__init__()\n",
    "        mid_channels = out_channels\n",
    "\n",
    "        self.conv1 = nn.Conv2d(in_channels, mid_channels, kernel_size=1, bias=False)\n",
    "        self.bn1 = nn.BatchNorm2d(mid_channels)\n",
    "\n",
    "        self.conv2 = nn.Conv2d(mid_channels, mid_channels, kernel_size=3, stride=stride,\n",
    "                               padding=1, bias=False)\n",
    "        self.bn2 = nn.BatchNorm2d(mid_channels)\n",
    "\n",
    "        self.conv3 = nn.Conv2d(mid_channels, out_channels * self.expansion, kernel_size=1, bias=False)\n",
    "        self.bn3 = nn.BatchNorm2d(out_channels * self.expansion)\n",
    "\n",
    "        self.se = SEBlock(out_channels * self.expansion)\n",
    "        self.relu = nn.ReLU(inplace=True)\n",
    "        self.downsample = downsample\n",
    "\n",
    "    def forward(self, x):\n",
    "        identity = x\n",
    "\n",
    "        out = self.relu(self.bn1(self.conv1(x)))\n",
    "        out = self.relu(self.bn2(self.conv2(out)))\n",
    "        out = self.bn3(self.conv3(out))\n",
    "\n",
    "        out = self.se(out)\n",
    "\n",
    "        if self.downsample is not None:\n",
    "            identity = self.downsample(x)\n",
    "\n",
    "        out += identity\n",
    "        out = self.relu(out)\n",
    "        return out\n",
    "\n",
    "# ResNet50 with SE blocks\n",
    "class ResNet50SE(nn.Module):\n",
    "    def __init__(self, num_classes=11):\n",
    "        super(ResNet50SE, self).__init__()\n",
    "        self.in_channels = 64\n",
    "\n",
    "        self.conv1 = nn.Conv2d(3, 64, kernel_size=7, stride=2, padding=3, bias=False)\n",
    "        self.bn1 = nn.BatchNorm2d(64)\n",
    "        self.relu = nn.ReLU(inplace=True)\n",
    "        self.pool1 = nn.MaxPool2d(kernel_size=3, stride=2, padding=1)\n",
    "\n",
    "        # Layer 配置：ResNet50 = [3, 4, 6, 3]\n",
    "        self.layer1 = self._make_layer(Bottleneck, 64,  3)\n",
    "        self.layer2 = self._make_layer(Bottleneck, 128, 4, stride=2)\n",
    "        self.layer3 = self._make_layer(Bottleneck, 256, 6, stride=2)\n",
    "        self.layer4 = self._make_layer(Bottleneck, 512, 3, stride=2)\n",
    "\n",
    "        self.global_pool = nn.AdaptiveAvgPool2d((1, 1))\n",
    "        self.dropout = nn.Dropout(0.5)\n",
    "        self.fc = nn.Linear(512 * Bottleneck.expansion, num_classes)\n",
    "\n",
    "    def _make_layer(self, block, out_channels, blocks, stride=1):\n",
    "        downsample = None\n",
    "        if stride != 1 or self.in_channels != out_channels * block.expansion:\n",
    "            downsample = nn.Sequential(\n",
    "                nn.Conv2d(self.in_channels, out_channels * block.expansion,\n",
    "                          kernel_size=1, stride=stride, bias=False),\n",
    "                nn.BatchNorm2d(out_channels * block.expansion)\n",
    "            )\n",
    "\n",
    "        layers = [block(self.in_channels, out_channels, stride, downsample)]\n",
    "        self.in_channels = out_channels * block.expansion\n",
    "        for _ in range(1, blocks):\n",
    "            layers.append(block(self.in_channels, out_channels))\n",
    "\n",
    "        return nn.Sequential(*layers)\n",
    "\n",
    "    def forward(self, x):\n",
    "        x = self.relu(self.bn1(self.conv1(x)))\n",
    "        x = self.pool1(x)\n",
    "\n",
    "        x = self.layer1(x)\n",
    "        x = self.layer2(x)\n",
    "        x = self.layer3(x)\n",
    "        x = self.layer4(x)\n",
    "\n",
    "        x = self.global_pool(x)\n",
    "        x = torch.flatten(x, 1)\n",
    "        x = self.dropout(x)\n",
    "        x = self.fc(x)\n",
    "        return x"
   ]
  },
  {
   "cell_type": "code",
   "execution_count": 14,
   "metadata": {},
   "outputs": [],
   "source": [
    "def compute_dynamic_loss_weights(class_val_losses, class_val_counts, class_counts, alpha=0.5, num_classes=11):\n",
    "    eps = 1e-6\n",
    "    avg_val_losses = np.array([\n",
    "        class_val_losses[c] / class_val_counts[c] if class_val_counts[c] > 0 else 0.0\n",
    "        for c in range(num_classes)\n",
    "    ])\n",
    "\n",
    "    loss_weights = avg_val_losses / (np.sum(avg_val_losses) + eps)\n",
    "    count_weights = 1.0 / (class_counts + eps)\n",
    "    count_weights = count_weights / np.sum(count_weights)\n",
    "\n",
    "    final_weights = alpha * loss_weights + (1 - alpha) * count_weights\n",
    "    final_weights = final_weights / np.sum(final_weights) * num_classes\n",
    "\n",
    "    return torch.tensor(final_weights, dtype=torch.float)\n",
    "\n",
    "alpha = 0.5"
   ]
  },
  {
   "cell_type": "code",
   "execution_count": 15,
   "metadata": {},
   "outputs": [],
   "source": [
    "class FocalLoss(nn.Module):\n",
    "    def __init__(self, alpha=None, gamma=2.0, reduction='mean'):\n",
    "        super(FocalLoss, self).__init__()\n",
    "        self.alpha = alpha  # class weights，Tensor of shape [num_classes]\n",
    "        self.gamma = gamma\n",
    "        self.reduction = reduction\n",
    "\n",
    "    def forward(self, inputs, targets):\n",
    "        ce_loss = F.cross_entropy(inputs, targets, weight=self.alpha, reduction='none')\n",
    "        pt = torch.exp(-ce_loss)  # pt = softmax prob of the correct class\n",
    "        focal_loss = ((1 - pt) ** self.gamma) * ce_loss\n",
    "\n",
    "        if self.reduction == 'mean':\n",
    "            return focal_loss.mean()\n",
    "        elif self.reduction == 'sum':\n",
    "            return focal_loss.sum()\n",
    "        else:\n",
    "            return focal_loss  # (for per-sample loss)"
   ]
  },
  {
   "cell_type": "markdown",
   "metadata": {},
   "source": [
    "## 模型訓練與預測"
   ]
  },
  {
   "cell_type": "markdown",
   "metadata": {},
   "source": [
    "其他測試過效果沒那麼好的\n",
    "\n",
    "#criterion = nn.CrossEntropyLoss(label_smoothing=0.1)\n",
    "#optimizer = optim.Adam(model.parameters(), lr=0.001, weight_decay=1e-4)\n",
    "#scheduler = CosineAnnealingLR(optimizer, T_max=100, eta_min=1e-5)\n",
    "#optimizer = AdamW(model.parameters(), lr=0.001, weight_decay=1e-4)\n",
    "#scheduler = optim.lr_scheduler.StepLR(optimizer, step_size=10, gamma=0.5)"
   ]
  },
  {
   "cell_type": "code",
   "execution_count": null,
   "metadata": {},
   "outputs": [
    {
     "name": "stderr",
     "output_type": "stream",
     "text": [
      "                                                                  \r"
     ]
    },
    {
     "name": "stdout",
     "output_type": "stream",
     "text": [
      "\n",
      "Epoch 1 | Training Loss: 1.4176\n"
     ]
    },
    {
     "name": "stderr",
     "output_type": "stream",
     "text": [
      "                                                                \r"
     ]
    },
    {
     "name": "stdout",
     "output_type": "stream",
     "text": [
      "Training Accuracy: 0.2200 | Validation Accuracy: 0.2325\n",
      "Current LR: 0.001000\n",
      "[Per-class Training Loss]\n",
      "  Class 0: Avg Train Loss = 1.3141\n",
      "  Class 1: Avg Train Loss = 3.0465\n",
      "  Class 2: Avg Train Loss = 0.8064\n",
      "  Class 3: Avg Train Loss = 1.3633\n",
      "  Class 4: Avg Train Loss = 1.4381\n",
      "  Class 5: Avg Train Loss = 0.8783\n",
      "  Class 6: Avg Train Loss = 3.2022\n",
      "  Class 7: Avg Train Loss = 5.3920\n",
      "  Class 8: Avg Train Loss = 1.5755\n",
      "  Class 9: Avg Train Loss = 0.7671\n",
      "  Class 10: Avg Train Loss = 1.4706\n",
      "[Per-class Validation Loss]\n",
      "  Class 0: Avg Val Loss = 2.1912\n",
      "  Class 1: Avg Val Loss = 2.1384\n",
      "  Class 2: Avg Val Loss = 2.2405\n",
      "  Class 3: Avg Val Loss = 2.4325\n",
      "  Class 4: Avg Val Loss = 1.9433\n",
      "  Class 5: Avg Val Loss = 2.5450\n",
      "  Class 6: Avg Val Loss = 2.5470\n",
      "  Class 7: Avg Val Loss = 2.5437\n",
      "  Class 8: Avg Val Loss = 2.3749\n",
      "  Class 9: Avg Val Loss = 1.8221\n",
      "  Class 10: Avg Val Loss = 1.9834\n",
      "Updated class weights at epoch 1: [0.8315936  1.274125   0.72619325 0.8879887  0.8359302  0.82402223\n",
      " 1.3449037  1.7894076  0.92848444 0.63327146 0.9240798 ]\n",
      "=== Accuracy improved, model saved. ===\n"
     ]
    },
    {
     "name": "stderr",
     "output_type": "stream",
     "text": [
      "                                                                  \r"
     ]
    },
    {
     "name": "stdout",
     "output_type": "stream",
     "text": [
      "\n",
      "Epoch 2 | Training Loss: 2.0407\n"
     ]
    },
    {
     "name": "stderr",
     "output_type": "stream",
     "text": [
      "                                                                \r"
     ]
    },
    {
     "name": "stdout",
     "output_type": "stream",
     "text": [
      "Training Accuracy: 0.2282 | Validation Accuracy: 0.1950\n",
      "=== No improvement for 1 epochs. ===\n"
     ]
    },
    {
     "name": "stderr",
     "output_type": "stream",
     "text": [
      "                                                                  \r"
     ]
    },
    {
     "name": "stdout",
     "output_type": "stream",
     "text": [
      "\n",
      "Epoch 3 | Training Loss: 1.8684\n"
     ]
    },
    {
     "name": "stderr",
     "output_type": "stream",
     "text": [
      "                                                                \r"
     ]
    },
    {
     "name": "stdout",
     "output_type": "stream",
     "text": [
      "Training Accuracy: 0.3082 | Validation Accuracy: 0.3511\n",
      "=== Accuracy improved, model saved. ===\n"
     ]
    },
    {
     "name": "stderr",
     "output_type": "stream",
     "text": [
      "                                                                  \r"
     ]
    },
    {
     "name": "stdout",
     "output_type": "stream",
     "text": [
      "\n",
      "Epoch 4 | Training Loss: 1.7820\n"
     ]
    },
    {
     "name": "stderr",
     "output_type": "stream",
     "text": [
      "                                                                \r"
     ]
    },
    {
     "name": "stdout",
     "output_type": "stream",
     "text": [
      "Training Accuracy: 0.3540 | Validation Accuracy: 0.3556\n",
      "=== Accuracy improved, model saved. ===\n"
     ]
    },
    {
     "name": "stderr",
     "output_type": "stream",
     "text": [
      "                                                                  \r"
     ]
    },
    {
     "name": "stdout",
     "output_type": "stream",
     "text": [
      "\n",
      "Epoch 5 | Training Loss: 1.7201\n"
     ]
    },
    {
     "name": "stderr",
     "output_type": "stream",
     "text": [
      "                                                                \r"
     ]
    },
    {
     "name": "stdout",
     "output_type": "stream",
     "text": [
      "Training Accuracy: 0.3825 | Validation Accuracy: 0.3951\n",
      "=== Accuracy improved, model saved. ===\n"
     ]
    },
    {
     "name": "stderr",
     "output_type": "stream",
     "text": [
      "                                                                  \r"
     ]
    },
    {
     "name": "stdout",
     "output_type": "stream",
     "text": [
      "\n",
      "Epoch 6 | Training Loss: 1.6589\n"
     ]
    },
    {
     "name": "stderr",
     "output_type": "stream",
     "text": [
      "                                                                \r"
     ]
    },
    {
     "name": "stdout",
     "output_type": "stream",
     "text": [
      "Training Accuracy: 0.4207 | Validation Accuracy: 0.4159\n",
      "=== Accuracy improved, model saved. ===\n"
     ]
    },
    {
     "name": "stderr",
     "output_type": "stream",
     "text": [
      "                                                                  \r"
     ]
    },
    {
     "name": "stdout",
     "output_type": "stream",
     "text": [
      "\n",
      "Epoch 7 | Training Loss: 1.6203\n"
     ]
    },
    {
     "name": "stderr",
     "output_type": "stream",
     "text": [
      "                                                                \r"
     ]
    },
    {
     "name": "stdout",
     "output_type": "stream",
     "text": [
      "Training Accuracy: 0.4278 | Validation Accuracy: 0.4124\n",
      "=== No improvement for 1 epochs. ===\n"
     ]
    },
    {
     "name": "stderr",
     "output_type": "stream",
     "text": [
      "                                                                  \r"
     ]
    },
    {
     "name": "stdout",
     "output_type": "stream",
     "text": [
      "\n",
      "Epoch 8 | Training Loss: 1.6039\n"
     ]
    },
    {
     "name": "stderr",
     "output_type": "stream",
     "text": [
      "                                                                \r"
     ]
    },
    {
     "name": "stdout",
     "output_type": "stream",
     "text": [
      "Training Accuracy: 0.4418 | Validation Accuracy: 0.4336\n",
      "=== Accuracy improved, model saved. ===\n"
     ]
    },
    {
     "name": "stderr",
     "output_type": "stream",
     "text": [
      "                                                                  \r"
     ]
    },
    {
     "name": "stdout",
     "output_type": "stream",
     "text": [
      "\n",
      "Epoch 9 | Training Loss: 1.5619\n"
     ]
    },
    {
     "name": "stderr",
     "output_type": "stream",
     "text": [
      "                                                                \r"
     ]
    },
    {
     "name": "stdout",
     "output_type": "stream",
     "text": [
      "Training Accuracy: 0.4669 | Validation Accuracy: 0.4428\n",
      "=== Accuracy improved, model saved. ===\n"
     ]
    },
    {
     "name": "stderr",
     "output_type": "stream",
     "text": [
      "                                                                   \r"
     ]
    },
    {
     "name": "stdout",
     "output_type": "stream",
     "text": [
      "\n",
      "Epoch 10 | Training Loss: 1.5227\n"
     ]
    },
    {
     "name": "stderr",
     "output_type": "stream",
     "text": [
      "                                                                 \r"
     ]
    },
    {
     "name": "stdout",
     "output_type": "stream",
     "text": [
      "Training Accuracy: 0.4812 | Validation Accuracy: 0.4032\n",
      "=== No improvement for 1 epochs. ===\n"
     ]
    },
    {
     "name": "stderr",
     "output_type": "stream",
     "text": [
      "                                                                   \r"
     ]
    },
    {
     "name": "stdout",
     "output_type": "stream",
     "text": [
      "\n",
      "Epoch 11 | Training Loss: 1.4937\n"
     ]
    },
    {
     "name": "stderr",
     "output_type": "stream",
     "text": [
      "                                                                 \r"
     ]
    },
    {
     "name": "stdout",
     "output_type": "stream",
     "text": [
      "Training Accuracy: 0.5011 | Validation Accuracy: 0.4569\n",
      "Current LR: 0.000976\n",
      "[Per-class Training Loss]\n",
      "  Class 0: Avg Train Loss = 1.7126\n",
      "  Class 1: Avg Train Loss = 2.2819\n",
      "  Class 2: Avg Train Loss = 1.3696\n",
      "  Class 3: Avg Train Loss = 1.5572\n",
      "  Class 4: Avg Train Loss = 1.5461\n",
      "  Class 5: Avg Train Loss = 1.2645\n",
      "  Class 6: Avg Train Loss = 1.9623\n",
      "  Class 7: Avg Train Loss = 2.9288\n",
      "  Class 8: Avg Train Loss = 1.4635\n",
      "  Class 9: Avg Train Loss = 1.1342\n",
      "  Class 10: Avg Train Loss = 1.1914\n",
      "[Per-class Validation Loss]\n",
      "  Class 0: Avg Val Loss = 2.1294\n",
      "  Class 1: Avg Val Loss = 1.5852\n",
      "  Class 2: Avg Val Loss = 1.9562\n",
      "  Class 3: Avg Val Loss = 1.5468\n",
      "  Class 4: Avg Val Loss = 1.7844\n",
      "  Class 5: Avg Val Loss = 1.1405\n",
      "  Class 6: Avg Val Loss = 2.0870\n",
      "  Class 7: Avg Val Loss = 1.3313\n",
      "  Class 8: Avg Val Loss = 0.7758\n",
      "  Class 9: Avg Val Loss = 1.4211\n",
      "  Class 10: Avg Val Loss = 1.8747\n",
      "Updated class weights at epoch 11: [1.0091236  1.2936205  0.8387452  0.83018106 0.9608748  0.6145079\n",
      " 1.4301606  1.6396909  0.64295834 0.67183477 1.0683024 ]\n",
      "=== Accuracy improved, model saved. ===\n"
     ]
    },
    {
     "name": "stderr",
     "output_type": "stream",
     "text": [
      "                                                                   \r"
     ]
    },
    {
     "name": "stdout",
     "output_type": "stream",
     "text": [
      "\n",
      "Epoch 12 | Training Loss: 1.4741\n"
     ]
    },
    {
     "name": "stderr",
     "output_type": "stream",
     "text": [
      "                                                                 \r"
     ]
    },
    {
     "name": "stdout",
     "output_type": "stream",
     "text": [
      "Training Accuracy: 0.5199 | Validation Accuracy: 0.4676\n",
      "=== Accuracy improved, model saved. ===\n"
     ]
    },
    {
     "name": "stderr",
     "output_type": "stream",
     "text": [
      "                                                                   \r"
     ]
    },
    {
     "name": "stdout",
     "output_type": "stream",
     "text": [
      "\n",
      "Epoch 13 | Training Loss: 1.4479\n"
     ]
    },
    {
     "name": "stderr",
     "output_type": "stream",
     "text": [
      "                                                                 \r"
     ]
    },
    {
     "name": "stdout",
     "output_type": "stream",
     "text": [
      "Training Accuracy: 0.5398 | Validation Accuracy: 0.4873\n",
      "=== Accuracy improved, model saved. ===\n"
     ]
    },
    {
     "name": "stderr",
     "output_type": "stream",
     "text": [
      "                                                                   \r"
     ]
    },
    {
     "name": "stdout",
     "output_type": "stream",
     "text": [
      "\n",
      "Epoch 14 | Training Loss: 1.4147\n"
     ]
    },
    {
     "name": "stderr",
     "output_type": "stream",
     "text": [
      "                                                                 \r"
     ]
    },
    {
     "name": "stdout",
     "output_type": "stream",
     "text": [
      "Training Accuracy: 0.5488 | Validation Accuracy: 0.4833\n",
      "=== No improvement for 1 epochs. ===\n"
     ]
    },
    {
     "name": "stderr",
     "output_type": "stream",
     "text": [
      "                                                                   \r"
     ]
    },
    {
     "name": "stdout",
     "output_type": "stream",
     "text": [
      "\n",
      "Epoch 15 | Training Loss: 1.4040\n"
     ]
    },
    {
     "name": "stderr",
     "output_type": "stream",
     "text": [
      "                                                                 \r"
     ]
    },
    {
     "name": "stdout",
     "output_type": "stream",
     "text": [
      "Training Accuracy: 0.5577 | Validation Accuracy: 0.5405\n",
      "=== Accuracy improved, model saved. ===\n"
     ]
    },
    {
     "name": "stderr",
     "output_type": "stream",
     "text": [
      "                                                                   \r"
     ]
    },
    {
     "name": "stdout",
     "output_type": "stream",
     "text": [
      "\n",
      "Epoch 16 | Training Loss: 1.3719\n"
     ]
    },
    {
     "name": "stderr",
     "output_type": "stream",
     "text": [
      "                                                                 \r"
     ]
    },
    {
     "name": "stdout",
     "output_type": "stream",
     "text": [
      "Training Accuracy: 0.5782 | Validation Accuracy: 0.5025\n",
      "=== No improvement for 1 epochs. ===\n"
     ]
    },
    {
     "name": "stderr",
     "output_type": "stream",
     "text": [
      "                                                                   \r"
     ]
    },
    {
     "name": "stdout",
     "output_type": "stream",
     "text": [
      "\n",
      "Epoch 17 | Training Loss: 1.3510\n"
     ]
    },
    {
     "name": "stderr",
     "output_type": "stream",
     "text": [
      "                                                                 \r"
     ]
    },
    {
     "name": "stdout",
     "output_type": "stream",
     "text": [
      "Training Accuracy: 0.5822 | Validation Accuracy: 0.5496\n",
      "=== Accuracy improved, model saved. ===\n"
     ]
    },
    {
     "name": "stderr",
     "output_type": "stream",
     "text": [
      "                                                                   \r"
     ]
    },
    {
     "name": "stdout",
     "output_type": "stream",
     "text": [
      "\n",
      "Epoch 18 | Training Loss: 1.3393\n"
     ]
    },
    {
     "name": "stderr",
     "output_type": "stream",
     "text": [
      "                                                                 \r"
     ]
    },
    {
     "name": "stdout",
     "output_type": "stream",
     "text": [
      "Training Accuracy: 0.5827 | Validation Accuracy: 0.5041\n",
      "=== No improvement for 1 epochs. ===\n"
     ]
    },
    {
     "name": "stderr",
     "output_type": "stream",
     "text": [
      "                                                                   \r"
     ]
    },
    {
     "name": "stdout",
     "output_type": "stream",
     "text": [
      "\n",
      "Epoch 19 | Training Loss: 1.3130\n"
     ]
    },
    {
     "name": "stderr",
     "output_type": "stream",
     "text": [
      "                                                                 \r"
     ]
    },
    {
     "name": "stdout",
     "output_type": "stream",
     "text": [
      "Training Accuracy: 0.6044 | Validation Accuracy: 0.5638\n",
      "=== Accuracy improved, model saved. ===\n"
     ]
    },
    {
     "name": "stderr",
     "output_type": "stream",
     "text": [
      "                                                                   \r"
     ]
    },
    {
     "name": "stdout",
     "output_type": "stream",
     "text": [
      "\n",
      "Epoch 20 | Training Loss: 1.2974\n"
     ]
    },
    {
     "name": "stderr",
     "output_type": "stream",
     "text": [
      "                                                                 \r"
     ]
    },
    {
     "name": "stdout",
     "output_type": "stream",
     "text": [
      "Training Accuracy: 0.6138 | Validation Accuracy: 0.5856\n",
      "=== Accuracy improved, model saved. ===\n"
     ]
    },
    {
     "name": "stderr",
     "output_type": "stream",
     "text": [
      "                                                                   \r"
     ]
    },
    {
     "name": "stdout",
     "output_type": "stream",
     "text": [
      "\n",
      "Epoch 21 | Training Loss: 1.2564\n"
     ]
    },
    {
     "name": "stderr",
     "output_type": "stream",
     "text": [
      "                                                                 \r"
     ]
    },
    {
     "name": "stdout",
     "output_type": "stream",
     "text": [
      "Training Accuracy: 0.6287 | Validation Accuracy: 0.5643\n",
      "Current LR: 0.000905\n",
      "[Per-class Training Loss]\n",
      "  Class 0: Avg Train Loss = 1.5978\n",
      "  Class 1: Avg Train Loss = 1.8655\n",
      "  Class 2: Avg Train Loss = 1.2592\n",
      "  Class 3: Avg Train Loss = 1.3234\n",
      "  Class 4: Avg Train Loss = 1.4070\n",
      "  Class 5: Avg Train Loss = 0.9650\n",
      "  Class 6: Avg Train Loss = 1.5263\n",
      "  Class 7: Avg Train Loss = 2.0515\n",
      "  Class 8: Avg Train Loss = 1.1082\n",
      "  Class 9: Avg Train Loss = 0.9607\n",
      "  Class 10: Avg Train Loss = 1.0173\n",
      "[Per-class Validation Loss]\n",
      "  Class 0: Avg Val Loss = 1.4857\n",
      "  Class 1: Avg Val Loss = 1.4793\n",
      "  Class 2: Avg Val Loss = 1.4526\n",
      "  Class 3: Avg Val Loss = 0.7653\n",
      "  Class 4: Avg Val Loss = 1.5777\n",
      "  Class 5: Avg Val Loss = 1.1476\n",
      "  Class 6: Avg Val Loss = 1.4353\n",
      "  Class 7: Avg Val Loss = 1.2199\n",
      "  Class 8: Avg Val Loss = 1.2306\n",
      "  Class 9: Avg Val Loss = 1.5484\n",
      "  Class 10: Avg Val Loss = 0.6263\n",
      "Updated class weights at epoch 21: [0.92986345 1.3816046  0.8005     0.6490117  1.0255055  0.7105929\n",
      " 1.3443207  1.7047235  0.88550526 0.8382179  0.7301547 ]\n",
      "=== No improvement for 1 epochs. ===\n"
     ]
    },
    {
     "name": "stderr",
     "output_type": "stream",
     "text": [
      "                                                                   \r"
     ]
    },
    {
     "name": "stdout",
     "output_type": "stream",
     "text": [
      "\n",
      "Epoch 22 | Training Loss: 1.2654\n"
     ]
    },
    {
     "name": "stderr",
     "output_type": "stream",
     "text": [
      "                                                                 \r"
     ]
    },
    {
     "name": "stdout",
     "output_type": "stream",
     "text": [
      "Training Accuracy: 0.6338 | Validation Accuracy: 0.6211\n",
      "=== Accuracy improved, model saved. ===\n"
     ]
    },
    {
     "name": "stderr",
     "output_type": "stream",
     "text": [
      "                                                                   \r"
     ]
    },
    {
     "name": "stdout",
     "output_type": "stream",
     "text": [
      "\n",
      "Epoch 23 | Training Loss: 1.2625\n"
     ]
    },
    {
     "name": "stderr",
     "output_type": "stream",
     "text": [
      "                                                                 \r"
     ]
    },
    {
     "name": "stdout",
     "output_type": "stream",
     "text": [
      "Training Accuracy: 0.6341 | Validation Accuracy: 0.5912\n",
      "=== No improvement for 1 epochs. ===\n"
     ]
    },
    {
     "name": "stderr",
     "output_type": "stream",
     "text": [
      "                                                                   \r"
     ]
    },
    {
     "name": "stdout",
     "output_type": "stream",
     "text": [
      "\n",
      "Epoch 24 | Training Loss: 1.2529\n"
     ]
    },
    {
     "name": "stderr",
     "output_type": "stream",
     "text": [
      "                                                                 \r"
     ]
    },
    {
     "name": "stdout",
     "output_type": "stream",
     "text": [
      "Training Accuracy: 0.6329 | Validation Accuracy: 0.6069\n",
      "=== No improvement for 2 epochs. ===\n"
     ]
    },
    {
     "name": "stderr",
     "output_type": "stream",
     "text": [
      "                                                                   \r"
     ]
    },
    {
     "name": "stdout",
     "output_type": "stream",
     "text": [
      "\n",
      "Epoch 25 | Training Loss: 1.2335\n"
     ]
    },
    {
     "name": "stderr",
     "output_type": "stream",
     "text": [
      "                                                                 \r"
     ]
    },
    {
     "name": "stdout",
     "output_type": "stream",
     "text": [
      "Training Accuracy: 0.6481 | Validation Accuracy: 0.5522\n",
      "=== No improvement for 3 epochs. ===\n"
     ]
    },
    {
     "name": "stderr",
     "output_type": "stream",
     "text": [
      "                                                                   \r"
     ]
    },
    {
     "name": "stdout",
     "output_type": "stream",
     "text": [
      "\n",
      "Epoch 26 | Training Loss: 1.2077\n"
     ]
    },
    {
     "name": "stderr",
     "output_type": "stream",
     "text": [
      "                                                                 \r"
     ]
    },
    {
     "name": "stdout",
     "output_type": "stream",
     "text": [
      "Training Accuracy: 0.6622 | Validation Accuracy: 0.5507\n",
      "=== No improvement for 4 epochs. ===\n"
     ]
    },
    {
     "name": "stderr",
     "output_type": "stream",
     "text": [
      "                                                                   \r"
     ]
    },
    {
     "name": "stdout",
     "output_type": "stream",
     "text": [
      "\n",
      "Epoch 27 | Training Loss: 1.1848\n"
     ]
    },
    {
     "name": "stderr",
     "output_type": "stream",
     "text": [
      "                                                                 \r"
     ]
    },
    {
     "name": "stdout",
     "output_type": "stream",
     "text": [
      "Training Accuracy: 0.6733 | Validation Accuracy: 0.5370\n",
      "=== No improvement for 5 epochs. ===\n"
     ]
    },
    {
     "name": "stderr",
     "output_type": "stream",
     "text": [
      "                                                                   \r"
     ]
    },
    {
     "name": "stdout",
     "output_type": "stream",
     "text": [
      "\n",
      "Epoch 28 | Training Loss: 1.1789\n"
     ]
    },
    {
     "name": "stderr",
     "output_type": "stream",
     "text": [
      "                                                                 \r"
     ]
    },
    {
     "name": "stdout",
     "output_type": "stream",
     "text": [
      "Training Accuracy: 0.6789 | Validation Accuracy: 0.6373\n",
      "=== Accuracy improved, model saved. ===\n"
     ]
    },
    {
     "name": "stderr",
     "output_type": "stream",
     "text": [
      "                                                                   \r"
     ]
    },
    {
     "name": "stdout",
     "output_type": "stream",
     "text": [
      "\n",
      "Epoch 29 | Training Loss: 1.1538\n"
     ]
    },
    {
     "name": "stderr",
     "output_type": "stream",
     "text": [
      "                                                                 \r"
     ]
    },
    {
     "name": "stdout",
     "output_type": "stream",
     "text": [
      "Training Accuracy: 0.6846 | Validation Accuracy: 0.5623\n",
      "=== No improvement for 1 epochs. ===\n"
     ]
    },
    {
     "name": "stderr",
     "output_type": "stream",
     "text": [
      "                                                                   \r"
     ]
    },
    {
     "name": "stdout",
     "output_type": "stream",
     "text": [
      "\n",
      "Epoch 30 | Training Loss: 1.1353\n"
     ]
    },
    {
     "name": "stderr",
     "output_type": "stream",
     "text": [
      "                                                                 \r"
     ]
    },
    {
     "name": "stdout",
     "output_type": "stream",
     "text": [
      "Training Accuracy: 0.6948 | Validation Accuracy: 0.5745\n",
      "=== No improvement for 2 epochs. ===\n"
     ]
    },
    {
     "name": "stderr",
     "output_type": "stream",
     "text": [
      "                                                                   \r"
     ]
    },
    {
     "name": "stdout",
     "output_type": "stream",
     "text": [
      "\n",
      "Epoch 31 | Training Loss: 1.1164\n"
     ]
    },
    {
     "name": "stderr",
     "output_type": "stream",
     "text": [
      "                                                                 \r"
     ]
    },
    {
     "name": "stdout",
     "output_type": "stream",
     "text": [
      "Training Accuracy: 0.7025 | Validation Accuracy: 0.6013\n",
      "Current LR: 0.000796\n",
      "[Per-class Training Loss]\n",
      "  Class 0: Avg Train Loss = 1.3660\n",
      "  Class 1: Avg Train Loss = 1.5298\n",
      "  Class 2: Avg Train Loss = 1.1756\n",
      "  Class 3: Avg Train Loss = 1.1193\n",
      "  Class 4: Avg Train Loss = 1.2229\n",
      "  Class 5: Avg Train Loss = 0.9519\n",
      "  Class 6: Avg Train Loss = 1.2218\n",
      "  Class 7: Avg Train Loss = 1.5668\n",
      "  Class 8: Avg Train Loss = 1.0691\n",
      "  Class 9: Avg Train Loss = 0.9078\n",
      "  Class 10: Avg Train Loss = 0.8276\n",
      "[Per-class Validation Loss]\n",
      "  Class 0: Avg Val Loss = 1.1754\n",
      "  Class 1: Avg Val Loss = 0.9990\n",
      "  Class 2: Avg Val Loss = 1.7265\n",
      "  Class 3: Avg Val Loss = 1.7146\n",
      "  Class 4: Avg Val Loss = 1.9617\n",
      "  Class 5: Avg Val Loss = 0.8570\n",
      "  Class 6: Avg Val Loss = 1.4748\n",
      "  Class 7: Avg Val Loss = 0.5414\n",
      "  Class 8: Avg Val Loss = 0.8171\n",
      "  Class 9: Avg Val Loss = 0.6930\n",
      "  Class 10: Avg Val Loss = 0.3295\n",
      "Updated class weights at epoch 31: [0.87093604 1.246241   1.001196   1.1150032  1.282193   0.6422862\n",
      " 1.4391551  1.4667064  0.76662624 0.53867185 0.63098496]\n",
      "=== No improvement for 3 epochs. ===\n"
     ]
    },
    {
     "name": "stderr",
     "output_type": "stream",
     "text": [
      "                                                                   \r"
     ]
    },
    {
     "name": "stdout",
     "output_type": "stream",
     "text": [
      "\n",
      "Epoch 32 | Training Loss: 1.1535\n"
     ]
    },
    {
     "name": "stderr",
     "output_type": "stream",
     "text": [
      "                                                                 \r"
     ]
    },
    {
     "name": "stdout",
     "output_type": "stream",
     "text": [
      "Training Accuracy: 0.6932 | Validation Accuracy: 0.6322\n",
      "=== No improvement for 4 epochs. ===\n"
     ]
    },
    {
     "name": "stderr",
     "output_type": "stream",
     "text": [
      "                                                                   \r"
     ]
    },
    {
     "name": "stdout",
     "output_type": "stream",
     "text": [
      "\n",
      "Epoch 33 | Training Loss: 1.1280\n"
     ]
    },
    {
     "name": "stderr",
     "output_type": "stream",
     "text": [
      "                                                                 \r"
     ]
    },
    {
     "name": "stdout",
     "output_type": "stream",
     "text": [
      "Training Accuracy: 0.7017 | Validation Accuracy: 0.6201\n",
      "=== No improvement for 5 epochs. ===\n"
     ]
    },
    {
     "name": "stderr",
     "output_type": "stream",
     "text": [
      "                                                                   \r"
     ]
    },
    {
     "name": "stdout",
     "output_type": "stream",
     "text": [
      "\n",
      "Epoch 34 | Training Loss: 1.1078\n"
     ]
    },
    {
     "name": "stderr",
     "output_type": "stream",
     "text": [
      "                                                                 \r"
     ]
    },
    {
     "name": "stdout",
     "output_type": "stream",
     "text": [
      "Training Accuracy: 0.7087 | Validation Accuracy: 0.6054\n",
      "=== No improvement for 6 epochs. ===\n"
     ]
    },
    {
     "name": "stderr",
     "output_type": "stream",
     "text": [
      "                                                                   \r"
     ]
    },
    {
     "name": "stdout",
     "output_type": "stream",
     "text": [
      "\n",
      "Epoch 35 | Training Loss: 1.0961\n"
     ]
    },
    {
     "name": "stderr",
     "output_type": "stream",
     "text": [
      "                                                                 \r"
     ]
    },
    {
     "name": "stdout",
     "output_type": "stream",
     "text": [
      "Training Accuracy: 0.7172 | Validation Accuracy: 0.6682\n",
      "=== Accuracy improved, model saved. ===\n"
     ]
    },
    {
     "name": "stderr",
     "output_type": "stream",
     "text": [
      "                                                                   \r"
     ]
    },
    {
     "name": "stdout",
     "output_type": "stream",
     "text": [
      "\n",
      "Epoch 36 | Training Loss: 1.0837\n"
     ]
    },
    {
     "name": "stderr",
     "output_type": "stream",
     "text": [
      "                                                                 \r"
     ]
    },
    {
     "name": "stdout",
     "output_type": "stream",
     "text": [
      "Training Accuracy: 0.7257 | Validation Accuracy: 0.6444\n",
      "=== No improvement for 1 epochs. ===\n"
     ]
    },
    {
     "name": "stderr",
     "output_type": "stream",
     "text": [
      "                                                                   \r"
     ]
    },
    {
     "name": "stdout",
     "output_type": "stream",
     "text": [
      "\n",
      "Epoch 37 | Training Loss: 1.0630\n"
     ]
    },
    {
     "name": "stderr",
     "output_type": "stream",
     "text": [
      "                                                                 \r"
     ]
    },
    {
     "name": "stdout",
     "output_type": "stream",
     "text": [
      "Training Accuracy: 0.7350 | Validation Accuracy: 0.6429\n",
      "=== No improvement for 2 epochs. ===\n"
     ]
    },
    {
     "name": "stderr",
     "output_type": "stream",
     "text": [
      "                                                                   \r"
     ]
    },
    {
     "name": "stdout",
     "output_type": "stream",
     "text": [
      "\n",
      "Epoch 38 | Training Loss: 1.0513\n"
     ]
    },
    {
     "name": "stderr",
     "output_type": "stream",
     "text": [
      "                                                                 \r"
     ]
    },
    {
     "name": "stdout",
     "output_type": "stream",
     "text": [
      "Training Accuracy: 0.7456 | Validation Accuracy: 0.6499\n",
      "=== No improvement for 3 epochs. ===\n"
     ]
    },
    {
     "name": "stderr",
     "output_type": "stream",
     "text": [
      "                                                                   \r"
     ]
    },
    {
     "name": "stdout",
     "output_type": "stream",
     "text": [
      "\n",
      "Epoch 39 | Training Loss: 1.0278\n"
     ]
    },
    {
     "name": "stderr",
     "output_type": "stream",
     "text": [
      "                                                                 \r"
     ]
    },
    {
     "name": "stdout",
     "output_type": "stream",
     "text": [
      "Training Accuracy: 0.7515 | Validation Accuracy: 0.6494\n",
      "=== No improvement for 4 epochs. ===\n"
     ]
    },
    {
     "name": "stderr",
     "output_type": "stream",
     "text": [
      "                                                                   \r"
     ]
    },
    {
     "name": "stdout",
     "output_type": "stream",
     "text": [
      "\n",
      "Epoch 40 | Training Loss: 1.0188\n"
     ]
    },
    {
     "name": "stderr",
     "output_type": "stream",
     "text": [
      "                                                                 \r"
     ]
    },
    {
     "name": "stdout",
     "output_type": "stream",
     "text": [
      "Training Accuracy: 0.7585 | Validation Accuracy: 0.6819\n",
      "=== Accuracy improved, model saved. ===\n"
     ]
    },
    {
     "name": "stderr",
     "output_type": "stream",
     "text": [
      "                                                                   \r"
     ]
    },
    {
     "name": "stdout",
     "output_type": "stream",
     "text": [
      "\n",
      "Epoch 41 | Training Loss: 1.0217\n"
     ]
    },
    {
     "name": "stderr",
     "output_type": "stream",
     "text": [
      "                                                                 \r"
     ]
    },
    {
     "name": "stdout",
     "output_type": "stream",
     "text": [
      "Training Accuracy: 0.7547 | Validation Accuracy: 0.7097\n",
      "Current LR: 0.000658\n",
      "[Per-class Training Loss]\n",
      "  Class 0: Avg Train Loss = 1.2467\n",
      "  Class 1: Avg Train Loss = 1.3418\n",
      "  Class 2: Avg Train Loss = 1.1271\n",
      "  Class 3: Avg Train Loss = 1.1599\n",
      "  Class 4: Avg Train Loss = 1.1907\n",
      "  Class 5: Avg Train Loss = 0.8740\n",
      "  Class 6: Avg Train Loss = 1.0437\n",
      "  Class 7: Avg Train Loss = 1.2416\n",
      "  Class 8: Avg Train Loss = 0.9359\n",
      "  Class 9: Avg Train Loss = 0.7439\n",
      "  Class 10: Avg Train Loss = 0.7502\n",
      "[Per-class Validation Loss]\n",
      "  Class 0: Avg Val Loss = 1.6138\n",
      "  Class 1: Avg Val Loss = 1.1335\n",
      "  Class 2: Avg Val Loss = 0.8488\n",
      "  Class 3: Avg Val Loss = 1.0679\n",
      "  Class 4: Avg Val Loss = 0.8111\n",
      "  Class 5: Avg Val Loss = 1.0123\n",
      "  Class 6: Avg Val Loss = 0.6541\n",
      "  Class 7: Avg Val Loss = 0.8173\n",
      "  Class 8: Avg Val Loss = 0.7769\n",
      "  Class 9: Avg Val Loss = 0.5874\n",
      "  Class 10: Avg Val Loss = 0.6292\n",
      "Updated class weights at epoch 41: [1.2367492  1.4255848  0.69764525 0.93786794 0.8525257  0.8181617\n",
      " 1.1406631  1.6760885  0.8302976  0.553161   0.8312551 ]\n",
      "=== Accuracy improved, model saved. ===\n"
     ]
    },
    {
     "name": "stderr",
     "output_type": "stream",
     "text": [
      "                                                                   \r"
     ]
    },
    {
     "name": "stdout",
     "output_type": "stream",
     "text": [
      "\n",
      "Epoch 42 | Training Loss: 0.9826\n"
     ]
    },
    {
     "name": "stderr",
     "output_type": "stream",
     "text": [
      "                                                                 \r"
     ]
    },
    {
     "name": "stdout",
     "output_type": "stream",
     "text": [
      "Training Accuracy: 0.7741 | Validation Accuracy: 0.6292\n",
      "=== No improvement for 1 epochs. ===\n"
     ]
    },
    {
     "name": "stderr",
     "output_type": "stream",
     "text": [
      "                                                                   \r"
     ]
    },
    {
     "name": "stdout",
     "output_type": "stream",
     "text": [
      "\n",
      "Epoch 43 | Training Loss: 0.9717\n"
     ]
    },
    {
     "name": "stderr",
     "output_type": "stream",
     "text": [
      "                                                                 \r"
     ]
    },
    {
     "name": "stdout",
     "output_type": "stream",
     "text": [
      "Training Accuracy: 0.7779 | Validation Accuracy: 0.6955\n",
      "=== No improvement for 2 epochs. ===\n"
     ]
    },
    {
     "name": "stderr",
     "output_type": "stream",
     "text": [
      "                                                                   \r"
     ]
    },
    {
     "name": "stdout",
     "output_type": "stream",
     "text": [
      "\n",
      "Epoch 44 | Training Loss: 0.9693\n"
     ]
    },
    {
     "name": "stderr",
     "output_type": "stream",
     "text": [
      "                                                                 \r"
     ]
    },
    {
     "name": "stdout",
     "output_type": "stream",
     "text": [
      "Training Accuracy: 0.7762 | Validation Accuracy: 0.7178\n",
      "=== Accuracy improved, model saved. ===\n"
     ]
    },
    {
     "name": "stderr",
     "output_type": "stream",
     "text": [
      "                                                                   \r"
     ]
    },
    {
     "name": "stdout",
     "output_type": "stream",
     "text": [
      "\n",
      "Epoch 45 | Training Loss: 0.9425\n"
     ]
    },
    {
     "name": "stderr",
     "output_type": "stream",
     "text": [
      "                                                                 \r"
     ]
    },
    {
     "name": "stdout",
     "output_type": "stream",
     "text": [
      "Training Accuracy: 0.7916 | Validation Accuracy: 0.7107\n",
      "=== No improvement for 1 epochs. ===\n"
     ]
    },
    {
     "name": "stderr",
     "output_type": "stream",
     "text": [
      "                                                                   \r"
     ]
    },
    {
     "name": "stdout",
     "output_type": "stream",
     "text": [
      "\n",
      "Epoch 46 | Training Loss: 0.9302\n"
     ]
    },
    {
     "name": "stderr",
     "output_type": "stream",
     "text": [
      "                                                                 \r"
     ]
    },
    {
     "name": "stdout",
     "output_type": "stream",
     "text": [
      "Training Accuracy: 0.7998 | Validation Accuracy: 0.7072\n",
      "=== No improvement for 2 epochs. ===\n"
     ]
    },
    {
     "name": "stderr",
     "output_type": "stream",
     "text": [
      "                                                                   \r"
     ]
    },
    {
     "name": "stdout",
     "output_type": "stream",
     "text": [
      "\n",
      "Epoch 47 | Training Loss: 0.9284\n"
     ]
    },
    {
     "name": "stderr",
     "output_type": "stream",
     "text": [
      "                                                                 \r"
     ]
    },
    {
     "name": "stdout",
     "output_type": "stream",
     "text": [
      "Training Accuracy: 0.7992 | Validation Accuracy: 0.6738\n",
      "=== No improvement for 3 epochs. ===\n"
     ]
    },
    {
     "name": "stderr",
     "output_type": "stream",
     "text": [
      "                                                                   \r"
     ]
    },
    {
     "name": "stdout",
     "output_type": "stream",
     "text": [
      "\n",
      "Epoch 48 | Training Loss: 0.9076\n"
     ]
    },
    {
     "name": "stderr",
     "output_type": "stream",
     "text": [
      "                                                                 \r"
     ]
    },
    {
     "name": "stdout",
     "output_type": "stream",
     "text": [
      "Training Accuracy: 0.8108 | Validation Accuracy: 0.7366\n",
      "=== Accuracy improved, model saved. ===\n"
     ]
    },
    {
     "name": "stderr",
     "output_type": "stream",
     "text": [
      "                                                                   \r"
     ]
    },
    {
     "name": "stdout",
     "output_type": "stream",
     "text": [
      "\n",
      "Epoch 49 | Training Loss: 0.9002\n"
     ]
    },
    {
     "name": "stderr",
     "output_type": "stream",
     "text": [
      "                                                                 \r"
     ]
    },
    {
     "name": "stdout",
     "output_type": "stream",
     "text": [
      "Training Accuracy: 0.8112 | Validation Accuracy: 0.7128\n",
      "=== No improvement for 1 epochs. ===\n"
     ]
    },
    {
     "name": "stderr",
     "output_type": "stream",
     "text": [
      "                                                                   \r"
     ]
    },
    {
     "name": "stdout",
     "output_type": "stream",
     "text": [
      "\n",
      "Epoch 50 | Training Loss: 0.8883\n"
     ]
    },
    {
     "name": "stderr",
     "output_type": "stream",
     "text": [
      "                                                                 \r"
     ]
    },
    {
     "name": "stdout",
     "output_type": "stream",
     "text": [
      "Training Accuracy: 0.8212 | Validation Accuracy: 0.7183\n",
      "=== No improvement for 2 epochs. ===\n"
     ]
    },
    {
     "name": "stderr",
     "output_type": "stream",
     "text": [
      "                                                                   \r"
     ]
    },
    {
     "name": "stdout",
     "output_type": "stream",
     "text": [
      "\n",
      "Epoch 51 | Training Loss: 0.8719\n"
     ]
    },
    {
     "name": "stderr",
     "output_type": "stream",
     "text": [
      "                                                                 \r"
     ]
    },
    {
     "name": "stdout",
     "output_type": "stream",
     "text": [
      "Training Accuracy: 0.8259 | Validation Accuracy: 0.7285\n",
      "Current LR: 0.000505\n",
      "[Per-class Training Loss]\n",
      "  Class 0: Avg Train Loss = 1.1048\n",
      "  Class 1: Avg Train Loss = 1.1014\n",
      "  Class 2: Avg Train Loss = 0.9094\n",
      "  Class 3: Avg Train Loss = 0.9493\n",
      "  Class 4: Avg Train Loss = 0.9506\n",
      "  Class 5: Avg Train Loss = 0.8229\n",
      "  Class 6: Avg Train Loss = 0.7731\n",
      "  Class 7: Avg Train Loss = 0.9636\n",
      "  Class 8: Avg Train Loss = 0.8433\n",
      "  Class 9: Avg Train Loss = 0.6769\n",
      "  Class 10: Avg Train Loss = 0.6906\n",
      "[Per-class Validation Loss]\n",
      "  Class 0: Avg Val Loss = 1.1807\n",
      "  Class 1: Avg Val Loss = 1.1847\n",
      "  Class 2: Avg Val Loss = 0.8903\n",
      "  Class 3: Avg Val Loss = 1.1522\n",
      "  Class 4: Avg Val Loss = 1.3303\n",
      "  Class 5: Avg Val Loss = 0.8274\n",
      "  Class 6: Avg Val Loss = 0.3317\n",
      "  Class 7: Avg Val Loss = 0.6463\n",
      "  Class 8: Avg Val Loss = 0.7769\n",
      "  Class 9: Avg Val Loss = 0.4767\n",
      "  Class 10: Avg Val Loss = 0.7485\n",
      "Updated class weights at epoch 51: [1.0252087  1.4817159  0.74151415 1.011553   1.1707721  0.73546004\n",
      " 0.9703077  1.5967876  0.8486178  0.5032287  0.91483414]\n",
      "=== No improvement for 3 epochs. ===\n"
     ]
    },
    {
     "name": "stderr",
     "output_type": "stream",
     "text": [
      "                                                                   \r"
     ]
    },
    {
     "name": "stdout",
     "output_type": "stream",
     "text": [
      "\n",
      "Epoch 52 | Training Loss: 0.8623\n"
     ]
    },
    {
     "name": "stderr",
     "output_type": "stream",
     "text": [
      "                                                                 \r"
     ]
    },
    {
     "name": "stdout",
     "output_type": "stream",
     "text": [
      "Training Accuracy: 0.8321 | Validation Accuracy: 0.6586\n",
      "=== No improvement for 4 epochs. ===\n"
     ]
    },
    {
     "name": "stderr",
     "output_type": "stream",
     "text": [
      "                                                                   \r"
     ]
    },
    {
     "name": "stdout",
     "output_type": "stream",
     "text": [
      "\n",
      "Epoch 53 | Training Loss: 0.8507\n"
     ]
    },
    {
     "name": "stderr",
     "output_type": "stream",
     "text": [
      "                                                                 \r"
     ]
    },
    {
     "name": "stdout",
     "output_type": "stream",
     "text": [
      "Training Accuracy: 0.8410 | Validation Accuracy: 0.7092\n",
      "=== No improvement for 5 epochs. ===\n"
     ]
    },
    {
     "name": "stderr",
     "output_type": "stream",
     "text": [
      "                                                                   \r"
     ]
    },
    {
     "name": "stdout",
     "output_type": "stream",
     "text": [
      "\n",
      "Epoch 54 | Training Loss: 0.8374\n"
     ]
    },
    {
     "name": "stderr",
     "output_type": "stream",
     "text": [
      "                                                                 \r"
     ]
    },
    {
     "name": "stdout",
     "output_type": "stream",
     "text": [
      "Training Accuracy: 0.8454 | Validation Accuracy: 0.7204\n",
      "=== No improvement for 6 epochs. ===\n"
     ]
    },
    {
     "name": "stderr",
     "output_type": "stream",
     "text": [
      "                                                                   \r"
     ]
    },
    {
     "name": "stdout",
     "output_type": "stream",
     "text": [
      "\n",
      "Epoch 55 | Training Loss: 0.8256\n"
     ]
    },
    {
     "name": "stderr",
     "output_type": "stream",
     "text": [
      "                                                                 \r"
     ]
    },
    {
     "name": "stdout",
     "output_type": "stream",
     "text": [
      "Training Accuracy: 0.8512 | Validation Accuracy: 0.7477\n",
      "=== Accuracy improved, model saved. ===\n"
     ]
    },
    {
     "name": "stderr",
     "output_type": "stream",
     "text": [
      "                                                                   \r"
     ]
    },
    {
     "name": "stdout",
     "output_type": "stream",
     "text": [
      "\n",
      "Epoch 56 | Training Loss: 0.8167\n"
     ]
    },
    {
     "name": "stderr",
     "output_type": "stream",
     "text": [
      "                                                                 \r"
     ]
    },
    {
     "name": "stdout",
     "output_type": "stream",
     "text": [
      "Training Accuracy: 0.8561 | Validation Accuracy: 0.7158\n",
      "=== No improvement for 1 epochs. ===\n"
     ]
    },
    {
     "name": "stderr",
     "output_type": "stream",
     "text": [
      "                                                                   \r"
     ]
    },
    {
     "name": "stdout",
     "output_type": "stream",
     "text": [
      "\n",
      "Epoch 57 | Training Loss: 0.8104\n"
     ]
    },
    {
     "name": "stderr",
     "output_type": "stream",
     "text": [
      "                                                                 \r"
     ]
    },
    {
     "name": "stdout",
     "output_type": "stream",
     "text": [
      "Training Accuracy: 0.8607 | Validation Accuracy: 0.7371\n",
      "=== No improvement for 2 epochs. ===\n"
     ]
    },
    {
     "name": "stderr",
     "output_type": "stream",
     "text": [
      "                                                                   \r"
     ]
    },
    {
     "name": "stdout",
     "output_type": "stream",
     "text": [
      "\n",
      "Epoch 58 | Training Loss: 0.7958\n"
     ]
    },
    {
     "name": "stderr",
     "output_type": "stream",
     "text": [
      "                                                                 \r"
     ]
    },
    {
     "name": "stdout",
     "output_type": "stream",
     "text": [
      "Training Accuracy: 0.8683 | Validation Accuracy: 0.7224\n",
      "=== No improvement for 3 epochs. ===\n"
     ]
    },
    {
     "name": "stderr",
     "output_type": "stream",
     "text": [
      "                                                                   \r"
     ]
    },
    {
     "name": "stdout",
     "output_type": "stream",
     "text": [
      "\n",
      "Epoch 59 | Training Loss: 0.7853\n"
     ]
    },
    {
     "name": "stderr",
     "output_type": "stream",
     "text": [
      "                                                                 \r"
     ]
    },
    {
     "name": "stdout",
     "output_type": "stream",
     "text": [
      "Training Accuracy: 0.8700 | Validation Accuracy: 0.7340\n",
      "=== No improvement for 4 epochs. ===\n"
     ]
    },
    {
     "name": "stderr",
     "output_type": "stream",
     "text": [
      "                                                                   \r"
     ]
    },
    {
     "name": "stdout",
     "output_type": "stream",
     "text": [
      "\n",
      "Epoch 60 | Training Loss: 0.7777\n"
     ]
    },
    {
     "name": "stderr",
     "output_type": "stream",
     "text": [
      "                                                                 \r"
     ]
    },
    {
     "name": "stdout",
     "output_type": "stream",
     "text": [
      "Training Accuracy: 0.8732 | Validation Accuracy: 0.7254\n",
      "=== No improvement for 5 epochs. ===\n"
     ]
    },
    {
     "name": "stderr",
     "output_type": "stream",
     "text": [
      "                                                                   \r"
     ]
    },
    {
     "name": "stdout",
     "output_type": "stream",
     "text": [
      "\n",
      "Epoch 61 | Training Loss: 0.7687\n"
     ]
    },
    {
     "name": "stderr",
     "output_type": "stream",
     "text": [
      "                                                                 \r"
     ]
    },
    {
     "name": "stdout",
     "output_type": "stream",
     "text": [
      "Training Accuracy: 0.8767 | Validation Accuracy: 0.7391\n",
      "Current LR: 0.000352\n",
      "[Per-class Training Loss]\n",
      "  Class 0: Avg Train Loss = 0.9115\n",
      "  Class 1: Avg Train Loss = 0.9099\n",
      "  Class 2: Avg Train Loss = 0.8062\n",
      "  Class 3: Avg Train Loss = 0.8531\n",
      "  Class 4: Avg Train Loss = 0.8705\n",
      "  Class 5: Avg Train Loss = 0.7375\n",
      "  Class 6: Avg Train Loss = 0.6781\n",
      "  Class 7: Avg Train Loss = 0.7806\n",
      "  Class 8: Avg Train Loss = 0.7267\n",
      "  Class 9: Avg Train Loss = 0.6172\n",
      "  Class 10: Avg Train Loss = 0.6540\n",
      "[Per-class Validation Loss]\n",
      "  Class 0: Avg Val Loss = 1.4091\n",
      "  Class 1: Avg Val Loss = 0.9480\n",
      "  Class 2: Avg Val Loss = 1.2984\n",
      "  Class 3: Avg Val Loss = 0.6898\n",
      "  Class 4: Avg Val Loss = 0.5150\n",
      "  Class 5: Avg Val Loss = 0.5436\n",
      "  Class 6: Avg Val Loss = 0.3016\n",
      "  Class 7: Avg Val Loss = 0.7047\n",
      "  Class 8: Avg Val Loss = 0.7752\n",
      "  Class 9: Avg Val Loss = 1.0533\n",
      "  Class 10: Avg Val Loss = 0.4501\n",
      "Updated class weights at epoch 61: [1.236867   1.3992233  1.050431   0.7843267  0.7302706  0.60284287\n",
      " 0.970074   1.6705083  0.8916732  0.895309   0.7684741 ]\n",
      "=== No improvement for 6 epochs. ===\n"
     ]
    },
    {
     "name": "stderr",
     "output_type": "stream",
     "text": [
      "                                                                   \r"
     ]
    },
    {
     "name": "stdout",
     "output_type": "stream",
     "text": [
      "\n",
      "Epoch 62 | Training Loss: 0.7723\n"
     ]
    },
    {
     "name": "stderr",
     "output_type": "stream",
     "text": [
      "                                                                 \r"
     ]
    },
    {
     "name": "stdout",
     "output_type": "stream",
     "text": [
      "Training Accuracy: 0.8862 | Validation Accuracy: 0.7396\n",
      "=== No improvement for 7 epochs. ===\n"
     ]
    },
    {
     "name": "stderr",
     "output_type": "stream",
     "text": [
      "                                                                   \r"
     ]
    },
    {
     "name": "stdout",
     "output_type": "stream",
     "text": [
      "\n",
      "Epoch 63 | Training Loss: 0.7627\n"
     ]
    },
    {
     "name": "stderr",
     "output_type": "stream",
     "text": [
      "                                                                 \r"
     ]
    },
    {
     "name": "stdout",
     "output_type": "stream",
     "text": [
      "Training Accuracy: 0.8882 | Validation Accuracy: 0.7447\n",
      "=== No improvement for 8 epochs. ===\n"
     ]
    },
    {
     "name": "stderr",
     "output_type": "stream",
     "text": [
      "                                                                   \r"
     ]
    },
    {
     "name": "stdout",
     "output_type": "stream",
     "text": [
      "\n",
      "Epoch 64 | Training Loss: 0.7553\n"
     ]
    },
    {
     "name": "stderr",
     "output_type": "stream",
     "text": [
      "                                                                 \r"
     ]
    },
    {
     "name": "stdout",
     "output_type": "stream",
     "text": [
      "Training Accuracy: 0.8924 | Validation Accuracy: 0.7528\n",
      "=== Accuracy improved, model saved. ===\n"
     ]
    },
    {
     "name": "stderr",
     "output_type": "stream",
     "text": [
      "                                                                   \r"
     ]
    },
    {
     "name": "stdout",
     "output_type": "stream",
     "text": [
      "\n",
      "Epoch 65 | Training Loss: 0.7362\n"
     ]
    },
    {
     "name": "stderr",
     "output_type": "stream",
     "text": [
      "                                                                 \r"
     ]
    },
    {
     "name": "stdout",
     "output_type": "stream",
     "text": [
      "Training Accuracy: 0.9027 | Validation Accuracy: 0.7462\n",
      "=== No improvement for 1 epochs. ===\n"
     ]
    },
    {
     "name": "stderr",
     "output_type": "stream",
     "text": [
      "                                                                   \r"
     ]
    },
    {
     "name": "stdout",
     "output_type": "stream",
     "text": [
      "\n",
      "Epoch 66 | Training Loss: 0.7321\n"
     ]
    },
    {
     "name": "stderr",
     "output_type": "stream",
     "text": [
      "                                                                 \r"
     ]
    },
    {
     "name": "stdout",
     "output_type": "stream",
     "text": [
      "Training Accuracy: 0.9031 | Validation Accuracy: 0.7634\n",
      "=== Accuracy improved, model saved. ===\n"
     ]
    },
    {
     "name": "stderr",
     "output_type": "stream",
     "text": [
      "                                                                   \r"
     ]
    },
    {
     "name": "stdout",
     "output_type": "stream",
     "text": [
      "\n",
      "Epoch 67 | Training Loss: 0.7180\n"
     ]
    },
    {
     "name": "stderr",
     "output_type": "stream",
     "text": [
      "                                                                 \r"
     ]
    },
    {
     "name": "stdout",
     "output_type": "stream",
     "text": [
      "Training Accuracy: 0.9099 | Validation Accuracy: 0.7513\n",
      "=== No improvement for 1 epochs. ===\n"
     ]
    },
    {
     "name": "stderr",
     "output_type": "stream",
     "text": [
      "                                                                   \r"
     ]
    },
    {
     "name": "stdout",
     "output_type": "stream",
     "text": [
      "\n",
      "Epoch 68 | Training Loss: 0.7079\n"
     ]
    },
    {
     "name": "stderr",
     "output_type": "stream",
     "text": [
      "                                                                 \r"
     ]
    },
    {
     "name": "stdout",
     "output_type": "stream",
     "text": [
      "Training Accuracy: 0.9151 | Validation Accuracy: 0.7477\n",
      "=== No improvement for 2 epochs. ===\n"
     ]
    },
    {
     "name": "stderr",
     "output_type": "stream",
     "text": [
      "                                                                   \r"
     ]
    },
    {
     "name": "stdout",
     "output_type": "stream",
     "text": [
      "\n",
      "Epoch 69 | Training Loss: 0.7036\n"
     ]
    },
    {
     "name": "stderr",
     "output_type": "stream",
     "text": [
      "                                                                 \r"
     ]
    },
    {
     "name": "stdout",
     "output_type": "stream",
     "text": [
      "Training Accuracy: 0.9195 | Validation Accuracy: 0.7609\n",
      "=== No improvement for 3 epochs. ===\n"
     ]
    },
    {
     "name": "stderr",
     "output_type": "stream",
     "text": [
      "                                                                   \r"
     ]
    },
    {
     "name": "stdout",
     "output_type": "stream",
     "text": [
      "\n",
      "Epoch 70 | Training Loss: 0.6879\n"
     ]
    },
    {
     "name": "stderr",
     "output_type": "stream",
     "text": [
      "                                                                 \r"
     ]
    },
    {
     "name": "stdout",
     "output_type": "stream",
     "text": [
      "Training Accuracy: 0.9245 | Validation Accuracy: 0.7553\n",
      "=== No improvement for 4 epochs. ===\n"
     ]
    },
    {
     "name": "stderr",
     "output_type": "stream",
     "text": [
      "                                                                   \r"
     ]
    },
    {
     "name": "stdout",
     "output_type": "stream",
     "text": [
      "\n",
      "Epoch 71 | Training Loss: 0.6765\n"
     ]
    },
    {
     "name": "stderr",
     "output_type": "stream",
     "text": [
      "                                                                 \r"
     ]
    },
    {
     "name": "stdout",
     "output_type": "stream",
     "text": [
      "Training Accuracy: 0.9340 | Validation Accuracy: 0.7558\n",
      "Current LR: 0.000214\n",
      "[Per-class Training Loss]\n",
      "  Class 0: Avg Train Loss = 0.7590\n",
      "  Class 1: Avg Train Loss = 0.7748\n",
      "  Class 2: Avg Train Loss = 0.7213\n",
      "  Class 3: Avg Train Loss = 0.7038\n",
      "  Class 4: Avg Train Loss = 0.6915\n",
      "  Class 5: Avg Train Loss = 0.6291\n",
      "  Class 6: Avg Train Loss = 0.6123\n",
      "  Class 7: Avg Train Loss = 0.6725\n",
      "  Class 8: Avg Train Loss = 0.6673\n",
      "  Class 9: Avg Train Loss = 0.6238\n",
      "  Class 10: Avg Train Loss = 0.5839\n",
      "[Per-class Validation Loss]\n",
      "  Class 0: Avg Val Loss = 1.2522\n",
      "  Class 1: Avg Val Loss = 1.4094\n",
      "  Class 2: Avg Val Loss = 0.7988\n",
      "  Class 3: Avg Val Loss = 0.6584\n",
      "  Class 4: Avg Val Loss = 1.0980\n",
      "  Class 5: Avg Val Loss = 1.0541\n",
      "  Class 6: Avg Val Loss = 0.3364\n",
      "  Class 7: Avg Val Loss = 0.6847\n",
      "  Class 8: Avg Val Loss = 0.6262\n",
      "  Class 9: Avg Val Loss = 0.6333\n",
      "  Class 10: Avg Val Loss = 0.4335\n",
      "Updated class weights at epoch 71: [1.1114314  1.6618521  0.7175321  0.7507409  1.0763874  0.90400946\n",
      " 0.9850879  1.6435385  0.78429663 0.6162312  0.7488926 ]\n",
      "=== No improvement for 5 epochs. ===\n"
     ]
    },
    {
     "name": "stderr",
     "output_type": "stream",
     "text": [
      "                                                                   \r"
     ]
    },
    {
     "name": "stdout",
     "output_type": "stream",
     "text": [
      "\n",
      "Epoch 72 | Training Loss: 0.6664\n"
     ]
    },
    {
     "name": "stderr",
     "output_type": "stream",
     "text": [
      "                                                                 \r"
     ]
    },
    {
     "name": "stdout",
     "output_type": "stream",
     "text": [
      "Training Accuracy: 0.9320 | Validation Accuracy: 0.7690\n",
      "=== Accuracy improved, model saved. ===\n"
     ]
    },
    {
     "name": "stderr",
     "output_type": "stream",
     "text": [
      "                                                                   \r"
     ]
    },
    {
     "name": "stdout",
     "output_type": "stream",
     "text": [
      "\n",
      "Epoch 73 | Training Loss: 0.6590\n"
     ]
    },
    {
     "name": "stderr",
     "output_type": "stream",
     "text": [
      "                                                                 \r"
     ]
    },
    {
     "name": "stdout",
     "output_type": "stream",
     "text": [
      "Training Accuracy: 0.9358 | Validation Accuracy: 0.7614\n",
      "=== No improvement for 1 epochs. ===\n"
     ]
    },
    {
     "name": "stderr",
     "output_type": "stream",
     "text": [
      "                                                                   \r"
     ]
    },
    {
     "name": "stdout",
     "output_type": "stream",
     "text": [
      "\n",
      "Epoch 74 | Training Loss: 0.6595\n"
     ]
    },
    {
     "name": "stderr",
     "output_type": "stream",
     "text": [
      "                                                                 \r"
     ]
    },
    {
     "name": "stdout",
     "output_type": "stream",
     "text": [
      "Training Accuracy: 0.9361 | Validation Accuracy: 0.7644\n",
      "=== No improvement for 2 epochs. ===\n"
     ]
    },
    {
     "name": "stderr",
     "output_type": "stream",
     "text": [
      "                                                                   \r"
     ]
    },
    {
     "name": "stdout",
     "output_type": "stream",
     "text": [
      "\n",
      "Epoch 75 | Training Loss: 0.6493\n"
     ]
    },
    {
     "name": "stderr",
     "output_type": "stream",
     "text": [
      "                                                                 \r"
     ]
    },
    {
     "name": "stdout",
     "output_type": "stream",
     "text": [
      "Training Accuracy: 0.9413 | Validation Accuracy: 0.7675\n",
      "=== No improvement for 3 epochs. ===\n"
     ]
    },
    {
     "name": "stderr",
     "output_type": "stream",
     "text": [
      "                                                                   \r"
     ]
    },
    {
     "name": "stdout",
     "output_type": "stream",
     "text": [
      "\n",
      "Epoch 76 | Training Loss: 0.6365\n"
     ]
    },
    {
     "name": "stderr",
     "output_type": "stream",
     "text": [
      "                                                                 \r"
     ]
    },
    {
     "name": "stdout",
     "output_type": "stream",
     "text": [
      "Training Accuracy: 0.9488 | Validation Accuracy: 0.7644\n",
      "=== No improvement for 4 epochs. ===\n"
     ]
    },
    {
     "name": "stderr",
     "output_type": "stream",
     "text": [
      "                                                                   \r"
     ]
    },
    {
     "name": "stdout",
     "output_type": "stream",
     "text": [
      "\n",
      "Epoch 77 | Training Loss: 0.6287\n"
     ]
    },
    {
     "name": "stderr",
     "output_type": "stream",
     "text": [
      "                                                                 \r"
     ]
    },
    {
     "name": "stdout",
     "output_type": "stream",
     "text": [
      "Training Accuracy: 0.9521 | Validation Accuracy: 0.7634\n",
      "=== No improvement for 5 epochs. ===\n"
     ]
    },
    {
     "name": "stderr",
     "output_type": "stream",
     "text": [
      "                                                                   \r"
     ]
    },
    {
     "name": "stdout",
     "output_type": "stream",
     "text": [
      "\n",
      "Epoch 78 | Training Loss: 0.6334\n"
     ]
    },
    {
     "name": "stderr",
     "output_type": "stream",
     "text": [
      "                                                                 \r"
     ]
    },
    {
     "name": "stdout",
     "output_type": "stream",
     "text": [
      "Training Accuracy: 0.9487 | Validation Accuracy: 0.7695\n",
      "=== Accuracy improved, model saved. ===\n"
     ]
    },
    {
     "name": "stderr",
     "output_type": "stream",
     "text": [
      "                                                                   \r"
     ]
    },
    {
     "name": "stdout",
     "output_type": "stream",
     "text": [
      "\n",
      "Epoch 79 | Training Loss: 0.6239\n"
     ]
    },
    {
     "name": "stderr",
     "output_type": "stream",
     "text": [
      "                                                                 \r"
     ]
    },
    {
     "name": "stdout",
     "output_type": "stream",
     "text": [
      "Training Accuracy: 0.9515 | Validation Accuracy: 0.7776\n",
      "=== Accuracy improved, model saved. ===\n"
     ]
    },
    {
     "name": "stderr",
     "output_type": "stream",
     "text": [
      "                                                                   \r"
     ]
    },
    {
     "name": "stdout",
     "output_type": "stream",
     "text": [
      "\n",
      "Epoch 80 | Training Loss: 0.6139\n"
     ]
    },
    {
     "name": "stderr",
     "output_type": "stream",
     "text": [
      "                                                                 \r"
     ]
    },
    {
     "name": "stdout",
     "output_type": "stream",
     "text": [
      "Training Accuracy: 0.9602 | Validation Accuracy: 0.7741\n",
      "=== No improvement for 1 epochs. ===\n"
     ]
    },
    {
     "name": "stderr",
     "output_type": "stream",
     "text": [
      "                                                                   \r"
     ]
    },
    {
     "name": "stdout",
     "output_type": "stream",
     "text": [
      "\n",
      "Epoch 81 | Training Loss: 0.6186\n"
     ]
    },
    {
     "name": "stderr",
     "output_type": "stream",
     "text": [
      "                                                                 \r"
     ]
    },
    {
     "name": "stdout",
     "output_type": "stream",
     "text": [
      "Training Accuracy: 0.9584 | Validation Accuracy: 0.7857\n",
      "Current LR: 0.000105\n",
      "[Per-class Training Loss]\n",
      "  Class 0: Avg Train Loss = 0.6574\n",
      "  Class 1: Avg Train Loss = 0.7159\n",
      "  Class 2: Avg Train Loss = 0.6225\n",
      "  Class 3: Avg Train Loss = 0.6228\n",
      "  Class 4: Avg Train Loss = 0.6767\n",
      "  Class 5: Avg Train Loss = 0.6510\n",
      "  Class 6: Avg Train Loss = 0.5781\n",
      "  Class 7: Avg Train Loss = 0.6494\n",
      "  Class 8: Avg Train Loss = 0.5985\n",
      "  Class 9: Avg Train Loss = 0.5462\n",
      "  Class 10: Avg Train Loss = 0.5507\n",
      "[Per-class Validation Loss]\n",
      "  Class 0: Avg Val Loss = 1.4584\n",
      "  Class 1: Avg Val Loss = 1.0185\n",
      "  Class 2: Avg Val Loss = 1.1741\n",
      "  Class 3: Avg Val Loss = 0.6699\n",
      "  Class 4: Avg Val Loss = 0.6907\n",
      "  Class 5: Avg Val Loss = 0.6684\n",
      "  Class 6: Avg Val Loss = 0.3007\n",
      "  Class 7: Avg Val Loss = 0.4478\n",
      "  Class 8: Avg Val Loss = 0.6125\n",
      "  Class 9: Avg Val Loss = 0.5305\n",
      "  Class 10: Avg Val Loss = 0.4358\n",
      "Updated class weights at epoch 81: [1.3466483  1.4987162  1.0349813  0.8078298  0.87870556 0.7178622\n",
      " 0.98570544 1.5319966  0.8217008  0.59294945 0.7829043 ]\n",
      "=== Accuracy improved, model saved. ===\n"
     ]
    },
    {
     "name": "stderr",
     "output_type": "stream",
     "text": [
      "                                                                   \r"
     ]
    },
    {
     "name": "stdout",
     "output_type": "stream",
     "text": [
      "\n",
      "Epoch 82 | Training Loss: 0.6174\n"
     ]
    },
    {
     "name": "stderr",
     "output_type": "stream",
     "text": [
      "                                                                 \r"
     ]
    },
    {
     "name": "stdout",
     "output_type": "stream",
     "text": [
      "Training Accuracy: 0.9608 | Validation Accuracy: 0.7766\n",
      "=== No improvement for 1 epochs. ===\n"
     ]
    },
    {
     "name": "stderr",
     "output_type": "stream",
     "text": [
      "                                                                   \r"
     ]
    },
    {
     "name": "stdout",
     "output_type": "stream",
     "text": [
      "\n",
      "Epoch 83 | Training Loss: 0.6114\n"
     ]
    },
    {
     "name": "stderr",
     "output_type": "stream",
     "text": [
      "                                                                 \r"
     ]
    },
    {
     "name": "stdout",
     "output_type": "stream",
     "text": [
      "Training Accuracy: 0.9619 | Validation Accuracy: 0.7700\n",
      "=== No improvement for 2 epochs. ===\n"
     ]
    },
    {
     "name": "stderr",
     "output_type": "stream",
     "text": [
      "                                                                   \r"
     ]
    },
    {
     "name": "stdout",
     "output_type": "stream",
     "text": [
      "\n",
      "Epoch 84 | Training Loss: 0.6122\n"
     ]
    },
    {
     "name": "stderr",
     "output_type": "stream",
     "text": [
      "                                                                 \r"
     ]
    },
    {
     "name": "stdout",
     "output_type": "stream",
     "text": [
      "Training Accuracy: 0.9640 | Validation Accuracy: 0.7796\n",
      "=== No improvement for 3 epochs. ===\n"
     ]
    },
    {
     "name": "stderr",
     "output_type": "stream",
     "text": [
      "                                                                   \r"
     ]
    },
    {
     "name": "stdout",
     "output_type": "stream",
     "text": [
      "\n",
      "Epoch 85 | Training Loss: 0.6031\n"
     ]
    },
    {
     "name": "stderr",
     "output_type": "stream",
     "text": [
      "                                                                 \r"
     ]
    },
    {
     "name": "stdout",
     "output_type": "stream",
     "text": [
      "Training Accuracy: 0.9671 | Validation Accuracy: 0.7730\n",
      "=== No improvement for 4 epochs. ===\n"
     ]
    },
    {
     "name": "stderr",
     "output_type": "stream",
     "text": [
      "                                                                   \r"
     ]
    },
    {
     "name": "stdout",
     "output_type": "stream",
     "text": [
      "\n",
      "Epoch 86 | Training Loss: 0.5980\n"
     ]
    },
    {
     "name": "stderr",
     "output_type": "stream",
     "text": [
      "                                                                 \r"
     ]
    },
    {
     "name": "stdout",
     "output_type": "stream",
     "text": [
      "Training Accuracy: 0.9692 | Validation Accuracy: 0.7771\n",
      "=== No improvement for 5 epochs. ===\n"
     ]
    },
    {
     "name": "stderr",
     "output_type": "stream",
     "text": [
      "                                                                   \r"
     ]
    },
    {
     "name": "stdout",
     "output_type": "stream",
     "text": [
      "\n",
      "Epoch 87 | Training Loss: 0.6016\n"
     ]
    },
    {
     "name": "stderr",
     "output_type": "stream",
     "text": [
      "                                                                 \r"
     ]
    },
    {
     "name": "stdout",
     "output_type": "stream",
     "text": [
      "Training Accuracy: 0.9679 | Validation Accuracy: 0.7837\n",
      "=== No improvement for 6 epochs. ===\n"
     ]
    },
    {
     "name": "stderr",
     "output_type": "stream",
     "text": [
      "                                                                   \r"
     ]
    },
    {
     "name": "stdout",
     "output_type": "stream",
     "text": [
      "\n",
      "Epoch 88 | Training Loss: 0.5914\n"
     ]
    },
    {
     "name": "stderr",
     "output_type": "stream",
     "text": [
      "                                                                 \r"
     ]
    },
    {
     "name": "stdout",
     "output_type": "stream",
     "text": [
      "Training Accuracy: 0.9728 | Validation Accuracy: 0.7786\n",
      "=== No improvement for 7 epochs. ===\n"
     ]
    },
    {
     "name": "stderr",
     "output_type": "stream",
     "text": [
      "                                                                   \r"
     ]
    },
    {
     "name": "stdout",
     "output_type": "stream",
     "text": [
      "\n",
      "Epoch 89 | Training Loss: 0.5920\n"
     ]
    },
    {
     "name": "stderr",
     "output_type": "stream",
     "text": [
      "                                                                 \r"
     ]
    },
    {
     "name": "stdout",
     "output_type": "stream",
     "text": [
      "Training Accuracy: 0.9711 | Validation Accuracy: 0.7852\n",
      "=== No improvement for 8 epochs. ===\n"
     ]
    },
    {
     "name": "stderr",
     "output_type": "stream",
     "text": [
      "                                                                   \r"
     ]
    },
    {
     "name": "stdout",
     "output_type": "stream",
     "text": [
      "\n",
      "Epoch 90 | Training Loss: 0.5898\n"
     ]
    },
    {
     "name": "stderr",
     "output_type": "stream",
     "text": [
      "                                                                 \r"
     ]
    },
    {
     "name": "stdout",
     "output_type": "stream",
     "text": [
      "Training Accuracy: 0.9710 | Validation Accuracy: 0.7761\n",
      "=== No improvement for 9 epochs. ===\n"
     ]
    },
    {
     "name": "stderr",
     "output_type": "stream",
     "text": [
      "                                                                   \r"
     ]
    },
    {
     "name": "stdout",
     "output_type": "stream",
     "text": [
      "\n",
      "Epoch 91 | Training Loss: 0.5866\n"
     ]
    },
    {
     "name": "stderr",
     "output_type": "stream",
     "text": [
      "                                                                 \r"
     ]
    },
    {
     "name": "stdout",
     "output_type": "stream",
     "text": [
      "Training Accuracy: 0.9743 | Validation Accuracy: 0.7847\n",
      "Current LR: 0.000034\n",
      "[Per-class Training Loss]\n",
      "  Class 0: Avg Train Loss = 0.6408\n",
      "  Class 1: Avg Train Loss = 0.6154\n",
      "  Class 2: Avg Train Loss = 0.6087\n",
      "  Class 3: Avg Train Loss = 0.6079\n",
      "  Class 4: Avg Train Loss = 0.6261\n",
      "  Class 5: Avg Train Loss = 0.5609\n",
      "  Class 6: Avg Train Loss = 0.5738\n",
      "  Class 7: Avg Train Loss = 0.5937\n",
      "  Class 8: Avg Train Loss = 0.5735\n",
      "  Class 9: Avg Train Loss = 0.5299\n",
      "  Class 10: Avg Train Loss = 0.5563\n",
      "[Per-class Validation Loss]\n",
      "  Class 0: Avg Val Loss = 1.1999\n",
      "  Class 1: Avg Val Loss = 1.1056\n",
      "  Class 2: Avg Val Loss = 0.9905\n",
      "  Class 3: Avg Val Loss = 0.8716\n",
      "  Class 4: Avg Val Loss = 0.7283\n",
      "  Class 5: Avg Val Loss = 0.7888\n",
      "  Class 6: Avg Val Loss = 0.3155\n",
      "  Class 7: Avg Val Loss = 0.5358\n",
      "  Class 8: Avg Val Loss = 0.6938\n",
      "  Class 9: Avg Val Loss = 0.5251\n",
      "  Class 10: Avg Val Loss = 0.3992\n",
      "Updated class weights at epoch 91: [1.1542208  1.5448917  0.8966608  0.9355983  0.8955423  0.7907811\n",
      " 0.9920026  1.5858159  0.8689728  0.58272713 0.7527866 ]\n",
      "=== No improvement for 10 epochs. ===\n"
     ]
    },
    {
     "name": "stderr",
     "output_type": "stream",
     "text": [
      "                                                                   \r"
     ]
    },
    {
     "name": "stdout",
     "output_type": "stream",
     "text": [
      "\n",
      "Epoch 92 | Training Loss: 0.5874\n"
     ]
    },
    {
     "name": "stderr",
     "output_type": "stream",
     "text": [
      "                                                                 \r"
     ]
    },
    {
     "name": "stdout",
     "output_type": "stream",
     "text": [
      "Training Accuracy: 0.9735 | Validation Accuracy: 0.7720\n",
      "=== No improvement for 11 epochs. ===\n"
     ]
    },
    {
     "name": "stderr",
     "output_type": "stream",
     "text": [
      "                                                                   \r"
     ]
    },
    {
     "name": "stdout",
     "output_type": "stream",
     "text": [
      "\n",
      "Epoch 93 | Training Loss: 0.5847\n"
     ]
    },
    {
     "name": "stderr",
     "output_type": "stream",
     "text": [
      "                                                                 \r"
     ]
    },
    {
     "name": "stdout",
     "output_type": "stream",
     "text": [
      "Training Accuracy: 0.9755 | Validation Accuracy: 0.7786\n",
      "=== No improvement for 12 epochs. ===\n"
     ]
    },
    {
     "name": "stderr",
     "output_type": "stream",
     "text": [
      "                                                                   \r"
     ]
    },
    {
     "name": "stdout",
     "output_type": "stream",
     "text": [
      "\n",
      "Epoch 94 | Training Loss: 0.5843\n"
     ]
    },
    {
     "name": "stderr",
     "output_type": "stream",
     "text": [
      "                                                                 \r"
     ]
    },
    {
     "name": "stdout",
     "output_type": "stream",
     "text": [
      "Training Accuracy: 0.9745 | Validation Accuracy: 0.7801\n",
      "=== No improvement for 13 epochs. ===\n"
     ]
    },
    {
     "name": "stderr",
     "output_type": "stream",
     "text": [
      "                                                                   \r"
     ]
    },
    {
     "name": "stdout",
     "output_type": "stream",
     "text": [
      "\n",
      "Epoch 95 | Training Loss: 0.5832\n"
     ]
    },
    {
     "name": "stderr",
     "output_type": "stream",
     "text": [
      "                                                                 \r"
     ]
    },
    {
     "name": "stdout",
     "output_type": "stream",
     "text": [
      "Training Accuracy: 0.9758 | Validation Accuracy: 0.7822\n",
      "=== No improvement for 14 epochs. ===\n"
     ]
    },
    {
     "name": "stderr",
     "output_type": "stream",
     "text": [
      "                                                                   \r"
     ]
    },
    {
     "name": "stdout",
     "output_type": "stream",
     "text": [
      "\n",
      "Epoch 96 | Training Loss: 0.5788\n"
     ]
    },
    {
     "name": "stderr",
     "output_type": "stream",
     "text": [
      "                                                                 "
     ]
    },
    {
     "name": "stdout",
     "output_type": "stream",
     "text": [
      "Training Accuracy: 0.9762 | Validation Accuracy: 0.7796\n",
      "=== No improvement for 15 epochs. ===\n",
      "=== Early stopping triggered. ===\n"
     ]
    },
    {
     "name": "stderr",
     "output_type": "stream",
     "text": [
      "\r"
     ]
    }
   ],
   "source": [
    "# 儲存訓練過程的數據\n",
    "train_losses = []\n",
    "train_accuracies = []\n",
    "val_accuracies = []\n",
    "\n",
    "model = ResNet50SE(num_classes=11).to(device)\n",
    "model.fc = nn.Linear(model.fc.in_features, 11)\n",
    "model = model.to(device)\n",
    "\n",
    "weights = compute_dynamic_weights(class_counts)\n",
    "\n",
    "# ----- Loss, Optimizer, Scheduler -----\n",
    "criterion = FocalLoss(alpha=weights, gamma=2.0, reduction='none') \n",
    "#criterion = nn.CrossEntropyLoss(weight=weights, label_smoothing=0.1, reduction='none')\n",
    "optimizer = optim.Adam(model.parameters(), lr=0.001, weight_decay=1e-4)\n",
    "scheduler = CosineAnnealingLR(optimizer, T_max=100, eta_min=1e-5)\n",
    "\n",
    "# ----- training loop -----\n",
    "for epoch in range(200):\n",
    "    model.train()\n",
    "    \n",
    "    total_loss = 0\n",
    "    correct_train, total_train = 0, 0\n",
    "    class_loss_sum = defaultdict(float)\n",
    "    class_sample_count = defaultdict(int)\n",
    "\n",
    "    train_bar = tqdm(train_loader, desc=f\"[Train] Epoch {epoch+1}\", leave=False)\n",
    "    for imgs, labels in train_bar:\n",
    "        imgs, labels = imgs.to(device), labels.to(device)\n",
    "        optimizer.zero_grad()\n",
    "\n",
    "        outputs = model(imgs)\n",
    "        per_sample_loss = criterion(outputs, labels)\n",
    "        loss = per_sample_loss.mean()\n",
    "\n",
    "        loss.backward()\n",
    "        optimizer.step()\n",
    "        total_loss += loss.item()\n",
    "\n",
    "        _, predicted = torch.max(outputs, 1)\n",
    "        correct_train += (predicted == labels).sum().item()\n",
    "        total_train += labels.size(0)\n",
    "\n",
    "        for i in range(len(labels)):\n",
    "            label = labels[i].item()\n",
    "            class_loss_sum[label] += per_sample_loss[i].item()\n",
    "            class_sample_count[label] += 1\n",
    "\n",
    "    train_acc = correct_train / total_train\n",
    "    train_accuracies.append(train_acc)\n",
    "    avg_train_loss = total_loss / len(train_loader)\n",
    "    train_losses.append(avg_train_loss)\n",
    "\n",
    "    print(f\"\\nEpoch {epoch+1} | Training Loss: {avg_train_loss:.4f}\")\n",
    "    \n",
    "    # ----- validation -----\n",
    "    model.eval()\n",
    "    correct, total = 0, 0\n",
    "    class_val_losses = [0.0 for _ in range(11)]\n",
    "    class_val_counts = [0 for _ in range(11)]\n",
    "\n",
    "    val_bar = tqdm(valid_loader, desc=f\"[Valid] Epoch {epoch+1}\", leave=False)\n",
    "    with torch.no_grad():\n",
    "        for imgs, labels in val_bar:\n",
    "            imgs, labels = imgs.to(device), labels.to(device)\n",
    "            outputs = model(imgs)\n",
    "            val_loss = F.cross_entropy(outputs, labels, reduction='none')\n",
    "\n",
    "            for i in range(len(labels)):\n",
    "                cls = labels[i].item()\n",
    "                class_val_losses[cls] += val_loss[i].item()\n",
    "                class_val_counts[cls] += 1\n",
    "\n",
    "            _, predicted = torch.max(outputs, 1)\n",
    "            total += labels.size(0)\n",
    "            correct += (predicted == labels).sum().item()\n",
    "\n",
    "    val_acc = correct / total\n",
    "    val_accuracies.append(val_acc)\n",
    "    print(f\"Training Accuracy: {train_acc:.4f} | Validation Accuracy: {val_acc:.4f}\")\n",
    "\n",
    "    # 每10 epoch 顯示類別 loss 和動態調整 class weiights\n",
    "    if epoch % 10 == 0:\n",
    "        print(f\"Current LR: {scheduler.get_last_lr()[0]:.6f}\")\n",
    "        print(\"[Per-class Training Loss]\")\n",
    "        for c in range(11):\n",
    "            if class_sample_count[c] > 0:\n",
    "                avg = class_loss_sum[c] / class_sample_count[c]\n",
    "                print(f\"  Class {c}: Avg Train Loss = {avg:.4f}\")\n",
    "            else:\n",
    "                print(f\"  Class {c}: No samples\")\n",
    "\n",
    "        print(\"[Per-class Validation Loss]\")\n",
    "        for c in range(11):\n",
    "            if class_val_counts[c] > 0:\n",
    "                avg = class_val_losses[c] / class_val_counts[c]\n",
    "                print(f\"  Class {c}: Avg Val Loss = {avg:.4f}\")\n",
    "            else:\n",
    "                print(f\"  Class {c}: No samples\")\n",
    "\n",
    "        # 動態調整 class weights\n",
    "        weights = compute_dynamic_loss_weights(class_val_losses, class_val_counts, class_counts, alpha=0.5).to(device)\n",
    "        criterion = nn.CrossEntropyLoss(weight=weights, label_smoothing=0.1, reduction='none')\n",
    "        print(f\"Updated class weights at epoch {epoch+1}: {weights.cpu().numpy()}\")\n",
    "\n",
    "    # Early stopping\n",
    "    if val_acc > best_acc:\n",
    "        best_acc = val_acc\n",
    "        counter = 0\n",
    "        torch.save(model.state_dict(), best_model_path)\n",
    "        print(\"=== Accuracy improved, model saved. ===\")\n",
    "    else:\n",
    "        counter += 1\n",
    "        print(f\"=== No improvement for {counter} epochs. ===\")\n",
    "\n",
    "    if counter >= patience:\n",
    "        print(\"=== Early stopping triggered. ===\")\n",
    "        break\n",
    "\n",
    "    scheduler.step()"
   ]
  },
  {
   "cell_type": "code",
   "execution_count": 20,
   "metadata": {},
   "outputs": [
    {
     "data": {
      "text/plain": [
       "ResNet50SE(\n",
       "  (conv1): Conv2d(3, 64, kernel_size=(7, 7), stride=(2, 2), padding=(3, 3), bias=False)\n",
       "  (bn1): BatchNorm2d(64, eps=1e-05, momentum=0.1, affine=True, track_running_stats=True)\n",
       "  (relu): ReLU(inplace=True)\n",
       "  (pool1): MaxPool2d(kernel_size=3, stride=2, padding=1, dilation=1, ceil_mode=False)\n",
       "  (layer1): Sequential(\n",
       "    (0): Bottleneck(\n",
       "      (conv1): Conv2d(64, 64, kernel_size=(1, 1), stride=(1, 1), bias=False)\n",
       "      (bn1): BatchNorm2d(64, eps=1e-05, momentum=0.1, affine=True, track_running_stats=True)\n",
       "      (conv2): Conv2d(64, 64, kernel_size=(3, 3), stride=(1, 1), padding=(1, 1), bias=False)\n",
       "      (bn2): BatchNorm2d(64, eps=1e-05, momentum=0.1, affine=True, track_running_stats=True)\n",
       "      (conv3): Conv2d(64, 256, kernel_size=(1, 1), stride=(1, 1), bias=False)\n",
       "      (bn3): BatchNorm2d(256, eps=1e-05, momentum=0.1, affine=True, track_running_stats=True)\n",
       "      (se): SEBlock(\n",
       "        (se): Sequential(\n",
       "          (0): AdaptiveAvgPool2d(output_size=1)\n",
       "          (1): Conv2d(256, 16, kernel_size=(1, 1), stride=(1, 1))\n",
       "          (2): ReLU(inplace=True)\n",
       "          (3): Conv2d(16, 256, kernel_size=(1, 1), stride=(1, 1))\n",
       "          (4): Sigmoid()\n",
       "        )\n",
       "      )\n",
       "      (relu): ReLU(inplace=True)\n",
       "      (downsample): Sequential(\n",
       "        (0): Conv2d(64, 256, kernel_size=(1, 1), stride=(1, 1), bias=False)\n",
       "        (1): BatchNorm2d(256, eps=1e-05, momentum=0.1, affine=True, track_running_stats=True)\n",
       "      )\n",
       "    )\n",
       "    (1): Bottleneck(\n",
       "      (conv1): Conv2d(256, 64, kernel_size=(1, 1), stride=(1, 1), bias=False)\n",
       "      (bn1): BatchNorm2d(64, eps=1e-05, momentum=0.1, affine=True, track_running_stats=True)\n",
       "      (conv2): Conv2d(64, 64, kernel_size=(3, 3), stride=(1, 1), padding=(1, 1), bias=False)\n",
       "      (bn2): BatchNorm2d(64, eps=1e-05, momentum=0.1, affine=True, track_running_stats=True)\n",
       "      (conv3): Conv2d(64, 256, kernel_size=(1, 1), stride=(1, 1), bias=False)\n",
       "      (bn3): BatchNorm2d(256, eps=1e-05, momentum=0.1, affine=True, track_running_stats=True)\n",
       "      (se): SEBlock(\n",
       "        (se): Sequential(\n",
       "          (0): AdaptiveAvgPool2d(output_size=1)\n",
       "          (1): Conv2d(256, 16, kernel_size=(1, 1), stride=(1, 1))\n",
       "          (2): ReLU(inplace=True)\n",
       "          (3): Conv2d(16, 256, kernel_size=(1, 1), stride=(1, 1))\n",
       "          (4): Sigmoid()\n",
       "        )\n",
       "      )\n",
       "      (relu): ReLU(inplace=True)\n",
       "    )\n",
       "    (2): Bottleneck(\n",
       "      (conv1): Conv2d(256, 64, kernel_size=(1, 1), stride=(1, 1), bias=False)\n",
       "      (bn1): BatchNorm2d(64, eps=1e-05, momentum=0.1, affine=True, track_running_stats=True)\n",
       "      (conv2): Conv2d(64, 64, kernel_size=(3, 3), stride=(1, 1), padding=(1, 1), bias=False)\n",
       "      (bn2): BatchNorm2d(64, eps=1e-05, momentum=0.1, affine=True, track_running_stats=True)\n",
       "      (conv3): Conv2d(64, 256, kernel_size=(1, 1), stride=(1, 1), bias=False)\n",
       "      (bn3): BatchNorm2d(256, eps=1e-05, momentum=0.1, affine=True, track_running_stats=True)\n",
       "      (se): SEBlock(\n",
       "        (se): Sequential(\n",
       "          (0): AdaptiveAvgPool2d(output_size=1)\n",
       "          (1): Conv2d(256, 16, kernel_size=(1, 1), stride=(1, 1))\n",
       "          (2): ReLU(inplace=True)\n",
       "          (3): Conv2d(16, 256, kernel_size=(1, 1), stride=(1, 1))\n",
       "          (4): Sigmoid()\n",
       "        )\n",
       "      )\n",
       "      (relu): ReLU(inplace=True)\n",
       "    )\n",
       "  )\n",
       "  (layer2): Sequential(\n",
       "    (0): Bottleneck(\n",
       "      (conv1): Conv2d(256, 128, kernel_size=(1, 1), stride=(1, 1), bias=False)\n",
       "      (bn1): BatchNorm2d(128, eps=1e-05, momentum=0.1, affine=True, track_running_stats=True)\n",
       "      (conv2): Conv2d(128, 128, kernel_size=(3, 3), stride=(2, 2), padding=(1, 1), bias=False)\n",
       "      (bn2): BatchNorm2d(128, eps=1e-05, momentum=0.1, affine=True, track_running_stats=True)\n",
       "      (conv3): Conv2d(128, 512, kernel_size=(1, 1), stride=(1, 1), bias=False)\n",
       "      (bn3): BatchNorm2d(512, eps=1e-05, momentum=0.1, affine=True, track_running_stats=True)\n",
       "      (se): SEBlock(\n",
       "        (se): Sequential(\n",
       "          (0): AdaptiveAvgPool2d(output_size=1)\n",
       "          (1): Conv2d(512, 32, kernel_size=(1, 1), stride=(1, 1))\n",
       "          (2): ReLU(inplace=True)\n",
       "          (3): Conv2d(32, 512, kernel_size=(1, 1), stride=(1, 1))\n",
       "          (4): Sigmoid()\n",
       "        )\n",
       "      )\n",
       "      (relu): ReLU(inplace=True)\n",
       "      (downsample): Sequential(\n",
       "        (0): Conv2d(256, 512, kernel_size=(1, 1), stride=(2, 2), bias=False)\n",
       "        (1): BatchNorm2d(512, eps=1e-05, momentum=0.1, affine=True, track_running_stats=True)\n",
       "      )\n",
       "    )\n",
       "    (1): Bottleneck(\n",
       "      (conv1): Conv2d(512, 128, kernel_size=(1, 1), stride=(1, 1), bias=False)\n",
       "      (bn1): BatchNorm2d(128, eps=1e-05, momentum=0.1, affine=True, track_running_stats=True)\n",
       "      (conv2): Conv2d(128, 128, kernel_size=(3, 3), stride=(1, 1), padding=(1, 1), bias=False)\n",
       "      (bn2): BatchNorm2d(128, eps=1e-05, momentum=0.1, affine=True, track_running_stats=True)\n",
       "      (conv3): Conv2d(128, 512, kernel_size=(1, 1), stride=(1, 1), bias=False)\n",
       "      (bn3): BatchNorm2d(512, eps=1e-05, momentum=0.1, affine=True, track_running_stats=True)\n",
       "      (se): SEBlock(\n",
       "        (se): Sequential(\n",
       "          (0): AdaptiveAvgPool2d(output_size=1)\n",
       "          (1): Conv2d(512, 32, kernel_size=(1, 1), stride=(1, 1))\n",
       "          (2): ReLU(inplace=True)\n",
       "          (3): Conv2d(32, 512, kernel_size=(1, 1), stride=(1, 1))\n",
       "          (4): Sigmoid()\n",
       "        )\n",
       "      )\n",
       "      (relu): ReLU(inplace=True)\n",
       "    )\n",
       "    (2): Bottleneck(\n",
       "      (conv1): Conv2d(512, 128, kernel_size=(1, 1), stride=(1, 1), bias=False)\n",
       "      (bn1): BatchNorm2d(128, eps=1e-05, momentum=0.1, affine=True, track_running_stats=True)\n",
       "      (conv2): Conv2d(128, 128, kernel_size=(3, 3), stride=(1, 1), padding=(1, 1), bias=False)\n",
       "      (bn2): BatchNorm2d(128, eps=1e-05, momentum=0.1, affine=True, track_running_stats=True)\n",
       "      (conv3): Conv2d(128, 512, kernel_size=(1, 1), stride=(1, 1), bias=False)\n",
       "      (bn3): BatchNorm2d(512, eps=1e-05, momentum=0.1, affine=True, track_running_stats=True)\n",
       "      (se): SEBlock(\n",
       "        (se): Sequential(\n",
       "          (0): AdaptiveAvgPool2d(output_size=1)\n",
       "          (1): Conv2d(512, 32, kernel_size=(1, 1), stride=(1, 1))\n",
       "          (2): ReLU(inplace=True)\n",
       "          (3): Conv2d(32, 512, kernel_size=(1, 1), stride=(1, 1))\n",
       "          (4): Sigmoid()\n",
       "        )\n",
       "      )\n",
       "      (relu): ReLU(inplace=True)\n",
       "    )\n",
       "    (3): Bottleneck(\n",
       "      (conv1): Conv2d(512, 128, kernel_size=(1, 1), stride=(1, 1), bias=False)\n",
       "      (bn1): BatchNorm2d(128, eps=1e-05, momentum=0.1, affine=True, track_running_stats=True)\n",
       "      (conv2): Conv2d(128, 128, kernel_size=(3, 3), stride=(1, 1), padding=(1, 1), bias=False)\n",
       "      (bn2): BatchNorm2d(128, eps=1e-05, momentum=0.1, affine=True, track_running_stats=True)\n",
       "      (conv3): Conv2d(128, 512, kernel_size=(1, 1), stride=(1, 1), bias=False)\n",
       "      (bn3): BatchNorm2d(512, eps=1e-05, momentum=0.1, affine=True, track_running_stats=True)\n",
       "      (se): SEBlock(\n",
       "        (se): Sequential(\n",
       "          (0): AdaptiveAvgPool2d(output_size=1)\n",
       "          (1): Conv2d(512, 32, kernel_size=(1, 1), stride=(1, 1))\n",
       "          (2): ReLU(inplace=True)\n",
       "          (3): Conv2d(32, 512, kernel_size=(1, 1), stride=(1, 1))\n",
       "          (4): Sigmoid()\n",
       "        )\n",
       "      )\n",
       "      (relu): ReLU(inplace=True)\n",
       "    )\n",
       "  )\n",
       "  (layer3): Sequential(\n",
       "    (0): Bottleneck(\n",
       "      (conv1): Conv2d(512, 256, kernel_size=(1, 1), stride=(1, 1), bias=False)\n",
       "      (bn1): BatchNorm2d(256, eps=1e-05, momentum=0.1, affine=True, track_running_stats=True)\n",
       "      (conv2): Conv2d(256, 256, kernel_size=(3, 3), stride=(2, 2), padding=(1, 1), bias=False)\n",
       "      (bn2): BatchNorm2d(256, eps=1e-05, momentum=0.1, affine=True, track_running_stats=True)\n",
       "      (conv3): Conv2d(256, 1024, kernel_size=(1, 1), stride=(1, 1), bias=False)\n",
       "      (bn3): BatchNorm2d(1024, eps=1e-05, momentum=0.1, affine=True, track_running_stats=True)\n",
       "      (se): SEBlock(\n",
       "        (se): Sequential(\n",
       "          (0): AdaptiveAvgPool2d(output_size=1)\n",
       "          (1): Conv2d(1024, 64, kernel_size=(1, 1), stride=(1, 1))\n",
       "          (2): ReLU(inplace=True)\n",
       "          (3): Conv2d(64, 1024, kernel_size=(1, 1), stride=(1, 1))\n",
       "          (4): Sigmoid()\n",
       "        )\n",
       "      )\n",
       "      (relu): ReLU(inplace=True)\n",
       "      (downsample): Sequential(\n",
       "        (0): Conv2d(512, 1024, kernel_size=(1, 1), stride=(2, 2), bias=False)\n",
       "        (1): BatchNorm2d(1024, eps=1e-05, momentum=0.1, affine=True, track_running_stats=True)\n",
       "      )\n",
       "    )\n",
       "    (1): Bottleneck(\n",
       "      (conv1): Conv2d(1024, 256, kernel_size=(1, 1), stride=(1, 1), bias=False)\n",
       "      (bn1): BatchNorm2d(256, eps=1e-05, momentum=0.1, affine=True, track_running_stats=True)\n",
       "      (conv2): Conv2d(256, 256, kernel_size=(3, 3), stride=(1, 1), padding=(1, 1), bias=False)\n",
       "      (bn2): BatchNorm2d(256, eps=1e-05, momentum=0.1, affine=True, track_running_stats=True)\n",
       "      (conv3): Conv2d(256, 1024, kernel_size=(1, 1), stride=(1, 1), bias=False)\n",
       "      (bn3): BatchNorm2d(1024, eps=1e-05, momentum=0.1, affine=True, track_running_stats=True)\n",
       "      (se): SEBlock(\n",
       "        (se): Sequential(\n",
       "          (0): AdaptiveAvgPool2d(output_size=1)\n",
       "          (1): Conv2d(1024, 64, kernel_size=(1, 1), stride=(1, 1))\n",
       "          (2): ReLU(inplace=True)\n",
       "          (3): Conv2d(64, 1024, kernel_size=(1, 1), stride=(1, 1))\n",
       "          (4): Sigmoid()\n",
       "        )\n",
       "      )\n",
       "      (relu): ReLU(inplace=True)\n",
       "    )\n",
       "    (2): Bottleneck(\n",
       "      (conv1): Conv2d(1024, 256, kernel_size=(1, 1), stride=(1, 1), bias=False)\n",
       "      (bn1): BatchNorm2d(256, eps=1e-05, momentum=0.1, affine=True, track_running_stats=True)\n",
       "      (conv2): Conv2d(256, 256, kernel_size=(3, 3), stride=(1, 1), padding=(1, 1), bias=False)\n",
       "      (bn2): BatchNorm2d(256, eps=1e-05, momentum=0.1, affine=True, track_running_stats=True)\n",
       "      (conv3): Conv2d(256, 1024, kernel_size=(1, 1), stride=(1, 1), bias=False)\n",
       "      (bn3): BatchNorm2d(1024, eps=1e-05, momentum=0.1, affine=True, track_running_stats=True)\n",
       "      (se): SEBlock(\n",
       "        (se): Sequential(\n",
       "          (0): AdaptiveAvgPool2d(output_size=1)\n",
       "          (1): Conv2d(1024, 64, kernel_size=(1, 1), stride=(1, 1))\n",
       "          (2): ReLU(inplace=True)\n",
       "          (3): Conv2d(64, 1024, kernel_size=(1, 1), stride=(1, 1))\n",
       "          (4): Sigmoid()\n",
       "        )\n",
       "      )\n",
       "      (relu): ReLU(inplace=True)\n",
       "    )\n",
       "    (3): Bottleneck(\n",
       "      (conv1): Conv2d(1024, 256, kernel_size=(1, 1), stride=(1, 1), bias=False)\n",
       "      (bn1): BatchNorm2d(256, eps=1e-05, momentum=0.1, affine=True, track_running_stats=True)\n",
       "      (conv2): Conv2d(256, 256, kernel_size=(3, 3), stride=(1, 1), padding=(1, 1), bias=False)\n",
       "      (bn2): BatchNorm2d(256, eps=1e-05, momentum=0.1, affine=True, track_running_stats=True)\n",
       "      (conv3): Conv2d(256, 1024, kernel_size=(1, 1), stride=(1, 1), bias=False)\n",
       "      (bn3): BatchNorm2d(1024, eps=1e-05, momentum=0.1, affine=True, track_running_stats=True)\n",
       "      (se): SEBlock(\n",
       "        (se): Sequential(\n",
       "          (0): AdaptiveAvgPool2d(output_size=1)\n",
       "          (1): Conv2d(1024, 64, kernel_size=(1, 1), stride=(1, 1))\n",
       "          (2): ReLU(inplace=True)\n",
       "          (3): Conv2d(64, 1024, kernel_size=(1, 1), stride=(1, 1))\n",
       "          (4): Sigmoid()\n",
       "        )\n",
       "      )\n",
       "      (relu): ReLU(inplace=True)\n",
       "    )\n",
       "    (4): Bottleneck(\n",
       "      (conv1): Conv2d(1024, 256, kernel_size=(1, 1), stride=(1, 1), bias=False)\n",
       "      (bn1): BatchNorm2d(256, eps=1e-05, momentum=0.1, affine=True, track_running_stats=True)\n",
       "      (conv2): Conv2d(256, 256, kernel_size=(3, 3), stride=(1, 1), padding=(1, 1), bias=False)\n",
       "      (bn2): BatchNorm2d(256, eps=1e-05, momentum=0.1, affine=True, track_running_stats=True)\n",
       "      (conv3): Conv2d(256, 1024, kernel_size=(1, 1), stride=(1, 1), bias=False)\n",
       "      (bn3): BatchNorm2d(1024, eps=1e-05, momentum=0.1, affine=True, track_running_stats=True)\n",
       "      (se): SEBlock(\n",
       "        (se): Sequential(\n",
       "          (0): AdaptiveAvgPool2d(output_size=1)\n",
       "          (1): Conv2d(1024, 64, kernel_size=(1, 1), stride=(1, 1))\n",
       "          (2): ReLU(inplace=True)\n",
       "          (3): Conv2d(64, 1024, kernel_size=(1, 1), stride=(1, 1))\n",
       "          (4): Sigmoid()\n",
       "        )\n",
       "      )\n",
       "      (relu): ReLU(inplace=True)\n",
       "    )\n",
       "    (5): Bottleneck(\n",
       "      (conv1): Conv2d(1024, 256, kernel_size=(1, 1), stride=(1, 1), bias=False)\n",
       "      (bn1): BatchNorm2d(256, eps=1e-05, momentum=0.1, affine=True, track_running_stats=True)\n",
       "      (conv2): Conv2d(256, 256, kernel_size=(3, 3), stride=(1, 1), padding=(1, 1), bias=False)\n",
       "      (bn2): BatchNorm2d(256, eps=1e-05, momentum=0.1, affine=True, track_running_stats=True)\n",
       "      (conv3): Conv2d(256, 1024, kernel_size=(1, 1), stride=(1, 1), bias=False)\n",
       "      (bn3): BatchNorm2d(1024, eps=1e-05, momentum=0.1, affine=True, track_running_stats=True)\n",
       "      (se): SEBlock(\n",
       "        (se): Sequential(\n",
       "          (0): AdaptiveAvgPool2d(output_size=1)\n",
       "          (1): Conv2d(1024, 64, kernel_size=(1, 1), stride=(1, 1))\n",
       "          (2): ReLU(inplace=True)\n",
       "          (3): Conv2d(64, 1024, kernel_size=(1, 1), stride=(1, 1))\n",
       "          (4): Sigmoid()\n",
       "        )\n",
       "      )\n",
       "      (relu): ReLU(inplace=True)\n",
       "    )\n",
       "  )\n",
       "  (layer4): Sequential(\n",
       "    (0): Bottleneck(\n",
       "      (conv1): Conv2d(1024, 512, kernel_size=(1, 1), stride=(1, 1), bias=False)\n",
       "      (bn1): BatchNorm2d(512, eps=1e-05, momentum=0.1, affine=True, track_running_stats=True)\n",
       "      (conv2): Conv2d(512, 512, kernel_size=(3, 3), stride=(2, 2), padding=(1, 1), bias=False)\n",
       "      (bn2): BatchNorm2d(512, eps=1e-05, momentum=0.1, affine=True, track_running_stats=True)\n",
       "      (conv3): Conv2d(512, 2048, kernel_size=(1, 1), stride=(1, 1), bias=False)\n",
       "      (bn3): BatchNorm2d(2048, eps=1e-05, momentum=0.1, affine=True, track_running_stats=True)\n",
       "      (se): SEBlock(\n",
       "        (se): Sequential(\n",
       "          (0): AdaptiveAvgPool2d(output_size=1)\n",
       "          (1): Conv2d(2048, 128, kernel_size=(1, 1), stride=(1, 1))\n",
       "          (2): ReLU(inplace=True)\n",
       "          (3): Conv2d(128, 2048, kernel_size=(1, 1), stride=(1, 1))\n",
       "          (4): Sigmoid()\n",
       "        )\n",
       "      )\n",
       "      (relu): ReLU(inplace=True)\n",
       "      (downsample): Sequential(\n",
       "        (0): Conv2d(1024, 2048, kernel_size=(1, 1), stride=(2, 2), bias=False)\n",
       "        (1): BatchNorm2d(2048, eps=1e-05, momentum=0.1, affine=True, track_running_stats=True)\n",
       "      )\n",
       "    )\n",
       "    (1): Bottleneck(\n",
       "      (conv1): Conv2d(2048, 512, kernel_size=(1, 1), stride=(1, 1), bias=False)\n",
       "      (bn1): BatchNorm2d(512, eps=1e-05, momentum=0.1, affine=True, track_running_stats=True)\n",
       "      (conv2): Conv2d(512, 512, kernel_size=(3, 3), stride=(1, 1), padding=(1, 1), bias=False)\n",
       "      (bn2): BatchNorm2d(512, eps=1e-05, momentum=0.1, affine=True, track_running_stats=True)\n",
       "      (conv3): Conv2d(512, 2048, kernel_size=(1, 1), stride=(1, 1), bias=False)\n",
       "      (bn3): BatchNorm2d(2048, eps=1e-05, momentum=0.1, affine=True, track_running_stats=True)\n",
       "      (se): SEBlock(\n",
       "        (se): Sequential(\n",
       "          (0): AdaptiveAvgPool2d(output_size=1)\n",
       "          (1): Conv2d(2048, 128, kernel_size=(1, 1), stride=(1, 1))\n",
       "          (2): ReLU(inplace=True)\n",
       "          (3): Conv2d(128, 2048, kernel_size=(1, 1), stride=(1, 1))\n",
       "          (4): Sigmoid()\n",
       "        )\n",
       "      )\n",
       "      (relu): ReLU(inplace=True)\n",
       "    )\n",
       "    (2): Bottleneck(\n",
       "      (conv1): Conv2d(2048, 512, kernel_size=(1, 1), stride=(1, 1), bias=False)\n",
       "      (bn1): BatchNorm2d(512, eps=1e-05, momentum=0.1, affine=True, track_running_stats=True)\n",
       "      (conv2): Conv2d(512, 512, kernel_size=(3, 3), stride=(1, 1), padding=(1, 1), bias=False)\n",
       "      (bn2): BatchNorm2d(512, eps=1e-05, momentum=0.1, affine=True, track_running_stats=True)\n",
       "      (conv3): Conv2d(512, 2048, kernel_size=(1, 1), stride=(1, 1), bias=False)\n",
       "      (bn3): BatchNorm2d(2048, eps=1e-05, momentum=0.1, affine=True, track_running_stats=True)\n",
       "      (se): SEBlock(\n",
       "        (se): Sequential(\n",
       "          (0): AdaptiveAvgPool2d(output_size=1)\n",
       "          (1): Conv2d(2048, 128, kernel_size=(1, 1), stride=(1, 1))\n",
       "          (2): ReLU(inplace=True)\n",
       "          (3): Conv2d(128, 2048, kernel_size=(1, 1), stride=(1, 1))\n",
       "          (4): Sigmoid()\n",
       "        )\n",
       "      )\n",
       "      (relu): ReLU(inplace=True)\n",
       "    )\n",
       "  )\n",
       "  (global_pool): AdaptiveAvgPool2d(output_size=(1, 1))\n",
       "  (dropout): Dropout(p=0.5, inplace=False)\n",
       "  (fc): Linear(in_features=2048, out_features=11, bias=True)\n",
       ")"
      ]
     },
     "execution_count": 20,
     "metadata": {},
     "output_type": "execute_result"
    }
   ],
   "source": [
    "model"
   ]
  },
  {
   "cell_type": "markdown",
   "metadata": {},
   "source": [
    "### 模型訓練過程與變化(Training Loss跟 Validation Accuracy的變化圖)"
   ]
  },
  {
   "cell_type": "code",
   "execution_count": 27,
   "metadata": {},
   "outputs": [
    {
     "data": {
      "image/png": "[encoded data removed]",
      "text/plain": [
       "<Figure size 1000x400 with 2 Axes>"
      ]
     },
     "metadata": {},
     "output_type": "display_data"
    }
   ],
   "source": [
    "plt.figure(figsize=(10, 4))\n",
    "\n",
    "plt.subplot(1, 2, 1)\n",
    "plt.plot(train_losses, label='Training Loss')\n",
    "plt.xlabel('Epoch')\n",
    "plt.ylabel('Loss')\n",
    "plt.title('Training Loss Curve')\n",
    "plt.legend()\n",
    "\n",
    "plt.subplot(1, 2, 2)\n",
    "plt.plot(train_accuracies, label='Training Accuracy', color='blue')\n",
    "plt.plot(val_accuracies, label='Validation Accuracy', color='red')\n",
    "plt.xlabel('Epoch')\n",
    "plt.ylabel('Accuracy')\n",
    "plt.title('Training Loss & Validation Accuracy')\n",
    "plt.legend()\n",
    "\n",
    "plt.tight_layout()\n",
    "plt.show()"
   ]
  },
  {
   "cell_type": "code",
   "execution_count": 22,
   "metadata": {},
   "outputs": [
    {
     "name": "stderr",
     "output_type": "stream",
     "text": [
      "/tmp/ipykernel_378441/519844408.py:3: FutureWarning: You are using `torch.load` with `weights_only=False` (the current default value), which uses the default pickle module implicitly. It is possible to construct malicious pickle data which will execute arbitrary code during unpickling (See https://github.com/pytorch/pytorch/blob/main/SECURITY.md#untrusted-models for more details). In a future release, the default value for `weights_only` will be flipped to `True`. This limits the functions that could be executed during unpickling. Arbitrary objects will no longer be allowed to be loaded via this mode unless they are explicitly allowlisted by the user via `torch.serialization.add_safe_globals`. We recommend you start setting `weights_only=True` for any use case where you don't have full control of the loaded file. Please open an issue on GitHub for any issues related to this experimental feature.\n",
      "  model.load_state_dict(torch.load(\"best_model.pt\"))\n"
     ]
    }
   ],
   "source": [
    "import pandas as pd\n",
    "\n",
    "model.load_state_dict(torch.load(\"best_model.pt\"))\n",
    "model.eval()\n",
    "preds = []\n",
    "with torch.no_grad():\n",
    "    for imgs, filenames in test_loader:\n",
    "        imgs = imgs.to(device)\n",
    "        outputs = model(imgs)\n",
    "        _, predicted = torch.max(outputs, 1)\n",
    "        for fname, label in zip(filenames, predicted.cpu().numpy()):\n",
    "            index = int(os.path.splitext(fname)[0])\n",
    "            preds.append((index, label))\n",
    "\n",
    "df = pd.DataFrame(preds, columns=['Index', 'Label'])\n",
    "df = df.sort_values(by='Index')\n",
    "df.to_csv('submission10_resnet50_2_2.csv', index=False)"
   ]
  },
  {
   "cell_type": "markdown",
   "metadata": {},
   "source": [
    "## 其他檢查內容"
   ]
  },
  {
   "cell_type": "markdown",
   "metadata": {},
   "source": [
    "### 測試單張圖片預測結果"
   ]
  },
  {
   "cell_type": "markdown",
   "metadata": {},
   "source": [
    "### 查看 Layer 資訊"
   ]
  }
 ],
 "metadata": {
  "kernelspec": {
   "display_name": "dl",
   "language": "python",
   "name": "python3"
  },
  "language_info": {
   "codemirror_mode": {
    "name": "ipython",
    "version": 3
   },
   "file_extension": ".py",
   "mimetype": "text/x-python",
   "name": "python",
   "nbconvert_exporter": "python",
   "pygments_lexer": "ipython3",
   "version": "3.11.9"
  }
 },
 "nbformat": 4,
 "nbformat_minor": 2
}
